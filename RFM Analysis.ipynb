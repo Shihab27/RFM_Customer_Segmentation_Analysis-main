{
 "cells": [
  {
   "cell_type": "markdown",
   "metadata": {},
   "source": [
    "## Project Info "
   ]
  },
  {
   "cell_type": "markdown",
   "metadata": {},
   "source": [
    "* This notebook aims at analyzing the content of an E-commerce database that lists purchases made by  ∼ 4000 customers over a period of one year (from 2010/12/01 to 2011/12/09). Based on this analysis, I develop a model that allows to anticipate the purchases that will be made by a new customer, during the following year and this, from its first purchase.\n",
    "\n",
    "* Customer segmentation is the practice of grouping customers based on common characteristics. These customer segments are beneficial in marketing campaigns, in identifying potentially profitable customers, and in developing customer loyalty. A company might segment customers according to a wide range of factors, including: demographics (age, gender, location etc), behaviour (previous orders, responses to messaging), psychographics (values, interests, lifestyles) etc.\n",
    "\n",
    "* RFM (Recency-Frequency-Monetary) analysis is a simple technique for behaviour based customer segmentation. It groups customers based on their transaction history – how recently, how often and how much did they buy. It is a handy method to find the best customers, understand their behavior and then run targeted marketing campaigns to increase sales, satisfaction and customer lifetime value.\n",
    "\n",
    "* The goal of this analysis is to identify customer segments for global retail company using RFM analysis and to understand how those groups differ from each other."
   ]
  },
  {
   "cell_type": "markdown",
   "metadata": {},
   "source": [
    "# Data Preperation \n",
    "\n",
    "### Step 1: Import libraries"
   ]
  },
  {
   "cell_type": "code",
   "execution_count": 1,
   "metadata": {},
   "outputs": [],
   "source": [
    "import pandas as pd\n",
    "import numpy as np \n",
    "import time\n",
    "import datetime as dt\n",
    "\n",
    "import re\n",
    "\n",
    "# import required libraries for clustering\n",
    "import sklearn\n",
    "from sklearn.preprocessing import StandardScaler\n",
    "from sklearn.cluster import KMeans\n",
    "from sklearn.manifold import TSNE\n",
    "from sklearn.cluster import KMeans\n",
    "from sklearn.metrics import silhouette_score\n",
    "\n",
    "\n",
    "\n",
    "\n",
    "import matplotlib.pyplot as plt\n",
    "import matplotlib.dates as mdates\n",
    "import seaborn as sns\n",
    "sns.set_style('whitegrid')\n",
    "\n",
    "start = time.time()"
   ]
  },
  {
   "cell_type": "code",
   "execution_count": 2,
   "metadata": {},
   "outputs": [
    {
     "data": {
      "text/html": [
       "<div>\n",
       "<style scoped>\n",
       "    .dataframe tbody tr th:only-of-type {\n",
       "        vertical-align: middle;\n",
       "    }\n",
       "\n",
       "    .dataframe tbody tr th {\n",
       "        vertical-align: top;\n",
       "    }\n",
       "\n",
       "    .dataframe thead th {\n",
       "        text-align: right;\n",
       "    }\n",
       "</style>\n",
       "<table border=\"1\" class=\"dataframe\">\n",
       "  <thead>\n",
       "    <tr style=\"text-align: right;\">\n",
       "      <th></th>\n",
       "      <th>InvoiceNo</th>\n",
       "      <th>StockCode</th>\n",
       "      <th>Description</th>\n",
       "      <th>Quantity</th>\n",
       "      <th>InvoiceDate</th>\n",
       "      <th>UnitPrice</th>\n",
       "      <th>CustomerID</th>\n",
       "      <th>Country</th>\n",
       "    </tr>\n",
       "  </thead>\n",
       "  <tbody>\n",
       "    <tr>\n",
       "      <th>0</th>\n",
       "      <td>536365</td>\n",
       "      <td>85123A</td>\n",
       "      <td>WHITE HANGING HEART T-LIGHT HOLDER</td>\n",
       "      <td>6.0</td>\n",
       "      <td>12/1/2010 8:26</td>\n",
       "      <td>2.55</td>\n",
       "      <td>17850</td>\n",
       "      <td>United Kingdom</td>\n",
       "    </tr>\n",
       "    <tr>\n",
       "      <th>1</th>\n",
       "      <td>536365</td>\n",
       "      <td>71053</td>\n",
       "      <td>WHITE METAL LANTERN</td>\n",
       "      <td>6.0</td>\n",
       "      <td>12/1/2010 8:26</td>\n",
       "      <td>3.39</td>\n",
       "      <td>17850</td>\n",
       "      <td>United Kingdom</td>\n",
       "    </tr>\n",
       "    <tr>\n",
       "      <th>2</th>\n",
       "      <td>536365</td>\n",
       "      <td>84406B</td>\n",
       "      <td>CREAM CUPID HEARTS COAT HANGER</td>\n",
       "      <td>8.0</td>\n",
       "      <td>12/1/2010 8:26</td>\n",
       "      <td>2.75</td>\n",
       "      <td>17850</td>\n",
       "      <td>United Kingdom</td>\n",
       "    </tr>\n",
       "    <tr>\n",
       "      <th>3</th>\n",
       "      <td>536365</td>\n",
       "      <td>84029G</td>\n",
       "      <td>KNITTED UNION FLAG HOT WATER BOTTLE</td>\n",
       "      <td>6.0</td>\n",
       "      <td>12/1/2010 8:26</td>\n",
       "      <td>3.39</td>\n",
       "      <td>17850</td>\n",
       "      <td>United Kingdom</td>\n",
       "    </tr>\n",
       "    <tr>\n",
       "      <th>4</th>\n",
       "      <td>536365</td>\n",
       "      <td>84029E</td>\n",
       "      <td>RED WOOLLY HOTTIE WHITE HEART.</td>\n",
       "      <td>6.0</td>\n",
       "      <td>12/1/2010 8:26</td>\n",
       "      <td>3.39</td>\n",
       "      <td>17850</td>\n",
       "      <td>United Kingdom</td>\n",
       "    </tr>\n",
       "  </tbody>\n",
       "</table>\n",
       "</div>"
      ],
      "text/plain": [
       "  InvoiceNo StockCode                          Description  Quantity  \\\n",
       "0    536365    85123A   WHITE HANGING HEART T-LIGHT HOLDER       6.0   \n",
       "1    536365     71053                  WHITE METAL LANTERN       6.0   \n",
       "2    536365    84406B       CREAM CUPID HEARTS COAT HANGER       8.0   \n",
       "3    536365    84029G  KNITTED UNION FLAG HOT WATER BOTTLE       6.0   \n",
       "4    536365    84029E       RED WOOLLY HOTTIE WHITE HEART.       6.0   \n",
       "\n",
       "      InvoiceDate  UnitPrice CustomerID         Country  \n",
       "0  12/1/2010 8:26       2.55      17850  United Kingdom  \n",
       "1  12/1/2010 8:26       3.39      17850  United Kingdom  \n",
       "2  12/1/2010 8:26       2.75      17850  United Kingdom  \n",
       "3  12/1/2010 8:26       3.39      17850  United Kingdom  \n",
       "4  12/1/2010 8:26       3.39      17850  United Kingdom  "
      ]
     },
     "execution_count": 2,
     "metadata": {},
     "output_type": "execute_result"
    }
   ],
   "source": [
    "df = pd.read_csv('rfm_data.csv', encoding = 'unicode_escape', dtype = {'CustomerID' : str})\n",
    "\n",
    "# The first five rows\n",
    "df.head()"
   ]
  },
  {
   "cell_type": "code",
   "execution_count": 3,
   "metadata": {},
   "outputs": [
    {
     "data": {
      "text/html": [
       "<div>\n",
       "<style scoped>\n",
       "    .dataframe tbody tr th:only-of-type {\n",
       "        vertical-align: middle;\n",
       "    }\n",
       "\n",
       "    .dataframe tbody tr th {\n",
       "        vertical-align: top;\n",
       "    }\n",
       "\n",
       "    .dataframe thead th {\n",
       "        text-align: right;\n",
       "    }\n",
       "</style>\n",
       "<table border=\"1\" class=\"dataframe\">\n",
       "  <thead>\n",
       "    <tr style=\"text-align: right;\">\n",
       "      <th></th>\n",
       "      <th>InvoiceNo</th>\n",
       "      <th>StockCode</th>\n",
       "      <th>Description</th>\n",
       "      <th>Quantity</th>\n",
       "      <th>InvoiceDate</th>\n",
       "      <th>UnitPrice</th>\n",
       "      <th>CustomerID</th>\n",
       "      <th>Country</th>\n",
       "    </tr>\n",
       "  </thead>\n",
       "  <tbody>\n",
       "    <tr>\n",
       "      <th>541904</th>\n",
       "      <td>581587</td>\n",
       "      <td>22613</td>\n",
       "      <td>PACK OF 20 SPACEBOY NAPKINS</td>\n",
       "      <td>12.0</td>\n",
       "      <td>12/9/2011 12:50</td>\n",
       "      <td>0.85</td>\n",
       "      <td>12680</td>\n",
       "      <td>France</td>\n",
       "    </tr>\n",
       "    <tr>\n",
       "      <th>541905</th>\n",
       "      <td>581587</td>\n",
       "      <td>22899</td>\n",
       "      <td>CHILDREN'S APRON DOLLY GIRL</td>\n",
       "      <td>6.0</td>\n",
       "      <td>12/9/2011 12:50</td>\n",
       "      <td>2.10</td>\n",
       "      <td>12680</td>\n",
       "      <td>France</td>\n",
       "    </tr>\n",
       "    <tr>\n",
       "      <th>541906</th>\n",
       "      <td>581587</td>\n",
       "      <td>23254</td>\n",
       "      <td>CHILDRENS CUTLERY DOLLY GIRL</td>\n",
       "      <td>4.0</td>\n",
       "      <td>12/9/2011 12:50</td>\n",
       "      <td>4.15</td>\n",
       "      <td>12680</td>\n",
       "      <td>France</td>\n",
       "    </tr>\n",
       "    <tr>\n",
       "      <th>541907</th>\n",
       "      <td>581587</td>\n",
       "      <td>23255</td>\n",
       "      <td>CHILDRENS CUTLERY CIRCUS PARADE</td>\n",
       "      <td>4.0</td>\n",
       "      <td>12/9/2011 12:50</td>\n",
       "      <td>4.15</td>\n",
       "      <td>12680</td>\n",
       "      <td>France</td>\n",
       "    </tr>\n",
       "    <tr>\n",
       "      <th>541908</th>\n",
       "      <td>581587</td>\n",
       "      <td>22138</td>\n",
       "      <td>BAKING SET 9 PIECE RETROSPOT</td>\n",
       "      <td>3.0</td>\n",
       "      <td>12/9/2011 12:50</td>\n",
       "      <td>4.95</td>\n",
       "      <td>12680</td>\n",
       "      <td>France</td>\n",
       "    </tr>\n",
       "  </tbody>\n",
       "</table>\n",
       "</div>"
      ],
      "text/plain": [
       "       InvoiceNo StockCode                      Description  Quantity  \\\n",
       "541904    581587     22613      PACK OF 20 SPACEBOY NAPKINS      12.0   \n",
       "541905    581587     22899     CHILDREN'S APRON DOLLY GIRL        6.0   \n",
       "541906    581587     23254    CHILDRENS CUTLERY DOLLY GIRL        4.0   \n",
       "541907    581587     23255  CHILDRENS CUTLERY CIRCUS PARADE       4.0   \n",
       "541908    581587     22138    BAKING SET 9 PIECE RETROSPOT        3.0   \n",
       "\n",
       "            InvoiceDate  UnitPrice CustomerID Country  \n",
       "541904  12/9/2011 12:50       0.85      12680  France  \n",
       "541905  12/9/2011 12:50       2.10      12680  France  \n",
       "541906  12/9/2011 12:50       4.15      12680  France  \n",
       "541907  12/9/2011 12:50       4.15      12680  France  \n",
       "541908  12/9/2011 12:50       4.95      12680  France  "
      ]
     },
     "execution_count": 3,
     "metadata": {},
     "output_type": "execute_result"
    }
   ],
   "source": [
    "# The last five rows \n",
    "\n",
    "df.tail()"
   ]
  },
  {
   "cell_type": "markdown",
   "metadata": {},
   "source": [
    "# Data Explorations:\n",
    "\n",
    "### Columns Description\n",
    "\n",
    "* InvoiceNo : Unique ID for every time a consumer visits the store\n",
    "* StockCode: Unique ID for a product\n",
    "* Description : Description of the product\n",
    "* Quantity : No of units bought\n",
    "* InvoiceDate : Date and time of purchase\n",
    "* Unit Price : Price for 1 unit of the product\n",
    "* CustomerId : Unique ID for each customer\n",
    "* Country : Country where transaction happened"
   ]
  },
  {
   "cell_type": "markdown",
   "metadata": {},
   "source": [
    "### Let's understand the columns names first, before we move on "
   ]
  },
  {
   "cell_type": "code",
   "execution_count": 4,
   "metadata": {},
   "outputs": [
    {
     "name": "stdout",
     "output_type": "stream",
     "text": [
      "The names of each column are below: \n",
      "\n",
      "1. InvoiceNo\n",
      "2. StockCode\n",
      "3. Description\n",
      "4. Quantity\n",
      "5. InvoiceDate\n",
      "6. UnitPrice\n",
      "7. CustomerID\n",
      "8. Country\n"
     ]
    }
   ],
   "source": [
    "print('The names of each column are below: \\n')\n",
    "\n",
    "i = 0 \n",
    "for column_name in df.columns:\n",
    "    i += 1\n",
    "    print(f'{i}.', column_name)"
   ]
  },
  {
   "cell_type": "code",
   "execution_count": 5,
   "metadata": {},
   "outputs": [],
   "source": [
    "# I will change the names or the first letters of some columns in order to make it easy as i type\n",
    "\n",
    "df.rename(index = str , \n",
    "          columns = {'InvoiceNo': 'invoice_num',\n",
    "                    'StockCode' : 'stock_code',\n",
    "                    'Description' : 'description',\n",
    "                    'Quantity' : 'quantity',\n",
    "                    'InvoiceDate' : 'invoice_date',\n",
    "                    'UnitPrice' : 'unit_price',\n",
    "                    'CustomerID' : 'customer_id',\n",
    "                    'Country' : 'country'}, inplace=True)"
   ]
  },
  {
   "cell_type": "code",
   "execution_count": 6,
   "metadata": {},
   "outputs": [
    {
     "name": "stdout",
     "output_type": "stream",
     "text": [
      "The shape of our dataset before we make any adjustment is (541909, 8)\n"
     ]
    }
   ],
   "source": [
    "# The data has 541909 entries and 8 variables before we make any adjustment\n",
    "# After loading data set, we are trying to get general information about our dataset.\n",
    "\n",
    "print('The shape of our dataset before we make any adjustment is', df.shape)"
   ]
  },
  {
   "cell_type": "code",
   "execution_count": 7,
   "metadata": {},
   "outputs": [
    {
     "name": "stdout",
     "output_type": "stream",
     "text": [
      "Some info about our dataset is below: \n",
      "\n",
      "<class 'pandas.core.frame.DataFrame'>\n",
      "Index: 541909 entries, 0 to 541908\n",
      "Data columns (total 8 columns):\n",
      " #   Column        Non-Null Count   Dtype  \n",
      "---  ------        --------------   -----  \n",
      " 0   invoice_num   541909 non-null  object \n",
      " 1   stock_code    535874 non-null  object \n",
      " 2   description   534420 non-null  object \n",
      " 3   quantity      535874 non-null  float64\n",
      " 4   invoice_date  535874 non-null  object \n",
      " 5   unit_price    535874 non-null  float64\n",
      " 6   customer_id   403182 non-null  object \n",
      " 7   country       535874 non-null  object \n",
      "dtypes: float64(2), object(6)\n",
      "memory usage: 37.2+ MB\n"
     ]
    }
   ],
   "source": [
    "print('Some info about our dataset is below: \\n')\n",
    "\n",
    "df.info()"
   ]
  },
  {
   "cell_type": "code",
   "execution_count": 8,
   "metadata": {},
   "outputs": [
    {
     "name": "stdout",
     "output_type": "stream",
     "text": [
      "Here are info about the type of each column: \n",
      "\n"
     ]
    },
    {
     "data": {
      "text/plain": [
       "invoice_num      object\n",
       "stock_code       object\n",
       "description      object\n",
       "quantity        float64\n",
       "invoice_date     object\n",
       "unit_price      float64\n",
       "customer_id      object\n",
       "country          object\n",
       "dtype: object"
      ]
     },
     "execution_count": 8,
     "metadata": {},
     "output_type": "execute_result"
    }
   ],
   "source": [
    "print('Here are info about the type of each column: \\n')\n",
    "\n",
    "df.dtypes"
   ]
  },
  {
   "cell_type": "markdown",
   "metadata": {},
   "source": [
    "# Step 2: Data Cleaning \n",
    "\n",
    "### Dealing with the missing data"
   ]
  },
  {
   "cell_type": "code",
   "execution_count": 9,
   "metadata": {},
   "outputs": [
    {
     "data": {
      "text/plain": [
       "True"
      ]
     },
     "execution_count": 9,
     "metadata": {},
     "output_type": "execute_result"
    }
   ],
   "source": [
    "# One way in order to check for missing values \n",
    "# Unfortunately we have\n",
    "\n",
    "df.isnull().values.any()"
   ]
  },
  {
   "cell_type": "code",
   "execution_count": 10,
   "metadata": {},
   "outputs": [
    {
     "name": "stdout",
     "output_type": "stream",
     "text": [
      "Here we can view the missing data in our dataset: \n",
      "\n"
     ]
    },
    {
     "data": {
      "text/plain": [
       "invoice_num          0\n",
       "stock_code        6035\n",
       "description       7489\n",
       "quantity          6035\n",
       "invoice_date      6035\n",
       "unit_price        6035\n",
       "customer_id     138727\n",
       "country           6035\n",
       "dtype: int64"
      ]
     },
     "execution_count": 10,
     "metadata": {},
     "output_type": "execute_result"
    }
   ],
   "source": [
    "# As we can see we have a lot of missing data in this dataset\n",
    "# However some of them is not really important, so we don't have problem so far\n",
    "\n",
    "print('Here we can view the missing data in our dataset: \\n')\n",
    "\n",
    "df.isnull().sum()"
   ]
  },
  {
   "cell_type": "code",
   "execution_count": 11,
   "metadata": {},
   "outputs": [
    {
     "name": "stdout",
     "output_type": "stream",
     "text": [
      "Here we can view the percentage of the missing data in our dataset: \n",
      "\n"
     ]
    },
    {
     "data": {
      "text/plain": [
       "invoice_num      0.00\n",
       "stock_code       1.11\n",
       "description      1.38\n",
       "quantity         1.11\n",
       "invoice_date     1.11\n",
       "unit_price       1.11\n",
       "customer_id     25.60\n",
       "country          1.11\n",
       "dtype: float64"
      ]
     },
     "execution_count": 11,
     "metadata": {},
     "output_type": "execute_result"
    }
   ],
   "source": [
    "print('Here we can view the percentage of the missing data in our dataset: \\n')\n",
    "\n",
    "missing_percentage = (( df.isnull().sum() / df.shape[0] ) * 100).round(2)\n",
    "missing_percentage"
   ]
  },
  {
   "cell_type": "markdown",
   "metadata": {},
   "source": [
    "* As we can see above almost the 26% of the customers are unknown!\n",
    "* Moreover, we have 1.1% of the other columns missing\n",
    "* We have to dig deaper in order to understand more our dataset"
   ]
  },
  {
   "cell_type": "code",
   "execution_count": 12,
   "metadata": {},
   "outputs": [
    {
     "data": {
      "image/png": "[encoded data removed]",
      "text/plain": [
       "<Figure size 936x360 with 1 Axes>"
      ]
     },
     "metadata": {},
     "output_type": "display_data"
    }
   ],
   "source": [
    "fig,ax = plt.subplots( figsize=(13,5))\n",
    "((df.isnull().sum() / len(df))*100).plot.bar(ax=ax,rot= 70)\n",
    "ax.set_title('The percentage % of Null Values')\n",
    "plt.show()"
   ]
  },
  {
   "cell_type": "code",
   "execution_count": 13,
   "metadata": {},
   "outputs": [
    {
     "name": "stdout",
     "output_type": "stream",
     "text": [
      "Missing Values after the cleaning: 0\n"
     ]
    }
   ],
   "source": [
    "# Droping rows having missing values\n",
    "\n",
    "df.dropna(inplace=True)\n",
    "\n",
    "print('Missing Values after the cleaning: {}'.format(df.isnull().sum().sum()))"
   ]
  },
  {
   "cell_type": "code",
   "execution_count": 14,
   "metadata": {},
   "outputs": [
    {
     "data": {
      "text/plain": [
       "invoice_num     0\n",
       "stock_code      0\n",
       "description     0\n",
       "quantity        0\n",
       "invoice_date    0\n",
       "unit_price      0\n",
       "customer_id     0\n",
       "country         0\n",
       "dtype: int64"
      ]
     },
     "execution_count": 14,
     "metadata": {},
     "output_type": "execute_result"
    }
   ],
   "source": [
    "#Double check it, just in case\n",
    "\n",
    "df.isnull().sum()"
   ]
  },
  {
   "cell_type": "markdown",
   "metadata": {},
   "source": [
    "### Checking for duplicate rows "
   ]
  },
  {
   "cell_type": "code",
   "execution_count": 15,
   "metadata": {},
   "outputs": [
    {
     "name": "stdout",
     "output_type": "stream",
     "text": [
      "The total amount of duplicates rows are 5179\n"
     ]
    }
   ],
   "source": [
    "duplicates_rows = df[df.duplicated()].value_counts().sum()\n",
    "print('The total amount of duplicates rows are' , duplicates_rows)"
   ]
  },
  {
   "cell_type": "code",
   "execution_count": 16,
   "metadata": {},
   "outputs": [
    {
     "data": {
      "text/html": [
       "<div>\n",
       "<style scoped>\n",
       "    .dataframe tbody tr th:only-of-type {\n",
       "        vertical-align: middle;\n",
       "    }\n",
       "\n",
       "    .dataframe tbody tr th {\n",
       "        vertical-align: top;\n",
       "    }\n",
       "\n",
       "    .dataframe thead th {\n",
       "        text-align: right;\n",
       "    }\n",
       "</style>\n",
       "<table border=\"1\" class=\"dataframe\">\n",
       "  <thead>\n",
       "    <tr style=\"text-align: right;\">\n",
       "      <th></th>\n",
       "      <th>invoice_num</th>\n",
       "      <th>stock_code</th>\n",
       "      <th>description</th>\n",
       "      <th>quantity</th>\n",
       "      <th>invoice_date</th>\n",
       "      <th>unit_price</th>\n",
       "      <th>customer_id</th>\n",
       "      <th>country</th>\n",
       "    </tr>\n",
       "  </thead>\n",
       "  <tbody>\n",
       "    <tr>\n",
       "      <th>517</th>\n",
       "      <td>536409</td>\n",
       "      <td>21866</td>\n",
       "      <td>UNION JACK FLAG LUGGAGE TAG</td>\n",
       "      <td>1.0</td>\n",
       "      <td>12/1/2010 11:45</td>\n",
       "      <td>1.25</td>\n",
       "      <td>17908</td>\n",
       "      <td>United Kingdom</td>\n",
       "    </tr>\n",
       "    <tr>\n",
       "      <th>527</th>\n",
       "      <td>536409</td>\n",
       "      <td>22866</td>\n",
       "      <td>HAND WARMER SCOTTY DOG DESIGN</td>\n",
       "      <td>1.0</td>\n",
       "      <td>12/1/2010 11:45</td>\n",
       "      <td>2.10</td>\n",
       "      <td>17908</td>\n",
       "      <td>United Kingdom</td>\n",
       "    </tr>\n",
       "    <tr>\n",
       "      <th>537</th>\n",
       "      <td>536409</td>\n",
       "      <td>22900</td>\n",
       "      <td>SET 2 TEA TOWELS I LOVE LONDON</td>\n",
       "      <td>1.0</td>\n",
       "      <td>12/1/2010 11:45</td>\n",
       "      <td>2.95</td>\n",
       "      <td>17908</td>\n",
       "      <td>United Kingdom</td>\n",
       "    </tr>\n",
       "    <tr>\n",
       "      <th>539</th>\n",
       "      <td>536409</td>\n",
       "      <td>22111</td>\n",
       "      <td>SCOTTIE DOG HOT WATER BOTTLE</td>\n",
       "      <td>1.0</td>\n",
       "      <td>12/1/2010 11:45</td>\n",
       "      <td>4.95</td>\n",
       "      <td>17908</td>\n",
       "      <td>United Kingdom</td>\n",
       "    </tr>\n",
       "    <tr>\n",
       "      <th>555</th>\n",
       "      <td>536412</td>\n",
       "      <td>22327</td>\n",
       "      <td>ROUND SNACK BOXES SET OF 4 SKULLS</td>\n",
       "      <td>1.0</td>\n",
       "      <td>12/1/2010 11:49</td>\n",
       "      <td>2.95</td>\n",
       "      <td>17920</td>\n",
       "      <td>United Kingdom</td>\n",
       "    </tr>\n",
       "    <tr>\n",
       "      <th>587</th>\n",
       "      <td>536412</td>\n",
       "      <td>22273</td>\n",
       "      <td>FELTCRAFT DOLL MOLLY</td>\n",
       "      <td>1.0</td>\n",
       "      <td>12/1/2010 11:49</td>\n",
       "      <td>2.95</td>\n",
       "      <td>17920</td>\n",
       "      <td>United Kingdom</td>\n",
       "    </tr>\n",
       "    <tr>\n",
       "      <th>589</th>\n",
       "      <td>536412</td>\n",
       "      <td>22749</td>\n",
       "      <td>FELTCRAFT PRINCESS CHARLOTTE DOLL</td>\n",
       "      <td>1.0</td>\n",
       "      <td>12/1/2010 11:49</td>\n",
       "      <td>3.75</td>\n",
       "      <td>17920</td>\n",
       "      <td>United Kingdom</td>\n",
       "    </tr>\n",
       "    <tr>\n",
       "      <th>594</th>\n",
       "      <td>536412</td>\n",
       "      <td>22141</td>\n",
       "      <td>CHRISTMAS CRAFT TREE TOP ANGEL</td>\n",
       "      <td>1.0</td>\n",
       "      <td>12/1/2010 11:49</td>\n",
       "      <td>2.10</td>\n",
       "      <td>17920</td>\n",
       "      <td>United Kingdom</td>\n",
       "    </tr>\n",
       "    <tr>\n",
       "      <th>598</th>\n",
       "      <td>536412</td>\n",
       "      <td>21448</td>\n",
       "      <td>12 DAISY PEGS IN WOOD BOX</td>\n",
       "      <td>1.0</td>\n",
       "      <td>12/1/2010 11:49</td>\n",
       "      <td>1.65</td>\n",
       "      <td>17920</td>\n",
       "      <td>United Kingdom</td>\n",
       "    </tr>\n",
       "    <tr>\n",
       "      <th>600</th>\n",
       "      <td>536412</td>\n",
       "      <td>22569</td>\n",
       "      <td>FELTCRAFT CUSHION BUTTERFLY</td>\n",
       "      <td>2.0</td>\n",
       "      <td>12/1/2010 11:49</td>\n",
       "      <td>3.75</td>\n",
       "      <td>17920</td>\n",
       "      <td>United Kingdom</td>\n",
       "    </tr>\n",
       "    <tr>\n",
       "      <th>601</th>\n",
       "      <td>536412</td>\n",
       "      <td>21448</td>\n",
       "      <td>12 DAISY PEGS IN WOOD BOX</td>\n",
       "      <td>2.0</td>\n",
       "      <td>12/1/2010 11:49</td>\n",
       "      <td>1.65</td>\n",
       "      <td>17920</td>\n",
       "      <td>United Kingdom</td>\n",
       "    </tr>\n",
       "    <tr>\n",
       "      <th>604</th>\n",
       "      <td>536412</td>\n",
       "      <td>21448</td>\n",
       "      <td>12 DAISY PEGS IN WOOD BOX</td>\n",
       "      <td>2.0</td>\n",
       "      <td>12/1/2010 11:49</td>\n",
       "      <td>1.65</td>\n",
       "      <td>17920</td>\n",
       "      <td>United Kingdom</td>\n",
       "    </tr>\n",
       "    <tr>\n",
       "      <th>605</th>\n",
       "      <td>536412</td>\n",
       "      <td>22902</td>\n",
       "      <td>TOTE BAG I LOVE LONDON</td>\n",
       "      <td>7.0</td>\n",
       "      <td>12/1/2010 11:49</td>\n",
       "      <td>2.10</td>\n",
       "      <td>17920</td>\n",
       "      <td>United Kingdom</td>\n",
       "    </tr>\n",
       "    <tr>\n",
       "      <th>616</th>\n",
       "      <td>536412</td>\n",
       "      <td>21708</td>\n",
       "      <td>FOLDING UMBRELLA CREAM POLKADOT</td>\n",
       "      <td>1.0</td>\n",
       "      <td>12/1/2010 11:49</td>\n",
       "      <td>4.95</td>\n",
       "      <td>17920</td>\n",
       "      <td>United Kingdom</td>\n",
       "    </tr>\n",
       "    <tr>\n",
       "      <th>617</th>\n",
       "      <td>536412</td>\n",
       "      <td>22900</td>\n",
       "      <td>SET 2 TEA TOWELS I LOVE LONDON</td>\n",
       "      <td>2.0</td>\n",
       "      <td>12/1/2010 11:49</td>\n",
       "      <td>2.95</td>\n",
       "      <td>17920</td>\n",
       "      <td>United Kingdom</td>\n",
       "    </tr>\n",
       "    <tr>\n",
       "      <th>618</th>\n",
       "      <td>536412</td>\n",
       "      <td>21706</td>\n",
       "      <td>FOLDING UMBRELLA RED/WHITE POLKADOT</td>\n",
       "      <td>1.0</td>\n",
       "      <td>12/1/2010 11:49</td>\n",
       "      <td>4.95</td>\n",
       "      <td>17920</td>\n",
       "      <td>United Kingdom</td>\n",
       "    </tr>\n",
       "    <tr>\n",
       "      <th>620</th>\n",
       "      <td>536412</td>\n",
       "      <td>85184C</td>\n",
       "      <td>S/4 VALENTINE DECOUPAGE HEART BOX</td>\n",
       "      <td>1.0</td>\n",
       "      <td>12/1/2010 11:49</td>\n",
       "      <td>2.95</td>\n",
       "      <td>17920</td>\n",
       "      <td>United Kingdom</td>\n",
       "    </tr>\n",
       "    <tr>\n",
       "      <th>758</th>\n",
       "      <td>536446</td>\n",
       "      <td>21651</td>\n",
       "      <td>HANGING GLASS ETCHED TEALIGHT</td>\n",
       "      <td>6.0</td>\n",
       "      <td>12/1/2010 12:15</td>\n",
       "      <td>1.65</td>\n",
       "      <td>15983</td>\n",
       "      <td>United Kingdom</td>\n",
       "    </tr>\n",
       "    <tr>\n",
       "      <th>831</th>\n",
       "      <td>536464</td>\n",
       "      <td>22866</td>\n",
       "      <td>HAND WARMER SCOTTY DOG DESIGN</td>\n",
       "      <td>1.0</td>\n",
       "      <td>12/1/2010 12:23</td>\n",
       "      <td>2.10</td>\n",
       "      <td>17968</td>\n",
       "      <td>United Kingdom</td>\n",
       "    </tr>\n",
       "    <tr>\n",
       "      <th>835</th>\n",
       "      <td>536464</td>\n",
       "      <td>22945</td>\n",
       "      <td>CHRISTMAS METAL TAGS ASSORTED</td>\n",
       "      <td>6.0</td>\n",
       "      <td>12/1/2010 12:23</td>\n",
       "      <td>0.85</td>\n",
       "      <td>17968</td>\n",
       "      <td>United Kingdom</td>\n",
       "    </tr>\n",
       "  </tbody>\n",
       "</table>\n",
       "</div>"
      ],
      "text/plain": [
       "    invoice_num stock_code                          description  quantity  \\\n",
       "517      536409      21866          UNION JACK FLAG LUGGAGE TAG       1.0   \n",
       "527      536409      22866        HAND WARMER SCOTTY DOG DESIGN       1.0   \n",
       "537      536409      22900      SET 2 TEA TOWELS I LOVE LONDON        1.0   \n",
       "539      536409      22111         SCOTTIE DOG HOT WATER BOTTLE       1.0   \n",
       "555      536412      22327    ROUND SNACK BOXES SET OF 4 SKULLS       1.0   \n",
       "587      536412      22273                 FELTCRAFT DOLL MOLLY       1.0   \n",
       "589      536412      22749    FELTCRAFT PRINCESS CHARLOTTE DOLL       1.0   \n",
       "594      536412      22141       CHRISTMAS CRAFT TREE TOP ANGEL       1.0   \n",
       "598      536412      21448            12 DAISY PEGS IN WOOD BOX       1.0   \n",
       "600      536412      22569          FELTCRAFT CUSHION BUTTERFLY       2.0   \n",
       "601      536412      21448            12 DAISY PEGS IN WOOD BOX       2.0   \n",
       "604      536412      21448            12 DAISY PEGS IN WOOD BOX       2.0   \n",
       "605      536412      22902               TOTE BAG I LOVE LONDON       7.0   \n",
       "616      536412      21708      FOLDING UMBRELLA CREAM POLKADOT       1.0   \n",
       "617      536412      22900      SET 2 TEA TOWELS I LOVE LONDON        2.0   \n",
       "618      536412      21706  FOLDING UMBRELLA RED/WHITE POLKADOT       1.0   \n",
       "620      536412     85184C    S/4 VALENTINE DECOUPAGE HEART BOX       1.0   \n",
       "758      536446      21651        HANGING GLASS ETCHED TEALIGHT       6.0   \n",
       "831      536464      22866        HAND WARMER SCOTTY DOG DESIGN       1.0   \n",
       "835      536464      22945       CHRISTMAS METAL TAGS ASSORTED        6.0   \n",
       "\n",
       "        invoice_date  unit_price customer_id         country  \n",
       "517  12/1/2010 11:45        1.25       17908  United Kingdom  \n",
       "527  12/1/2010 11:45        2.10       17908  United Kingdom  \n",
       "537  12/1/2010 11:45        2.95       17908  United Kingdom  \n",
       "539  12/1/2010 11:45        4.95       17908  United Kingdom  \n",
       "555  12/1/2010 11:49        2.95       17920  United Kingdom  \n",
       "587  12/1/2010 11:49        2.95       17920  United Kingdom  \n",
       "589  12/1/2010 11:49        3.75       17920  United Kingdom  \n",
       "594  12/1/2010 11:49        2.10       17920  United Kingdom  \n",
       "598  12/1/2010 11:49        1.65       17920  United Kingdom  \n",
       "600  12/1/2010 11:49        3.75       17920  United Kingdom  \n",
       "601  12/1/2010 11:49        1.65       17920  United Kingdom  \n",
       "604  12/1/2010 11:49        1.65       17920  United Kingdom  \n",
       "605  12/1/2010 11:49        2.10       17920  United Kingdom  \n",
       "616  12/1/2010 11:49        4.95       17920  United Kingdom  \n",
       "617  12/1/2010 11:49        2.95       17920  United Kingdom  \n",
       "618  12/1/2010 11:49        4.95       17920  United Kingdom  \n",
       "620  12/1/2010 11:49        2.95       17920  United Kingdom  \n",
       "758  12/1/2010 12:15        1.65       15983  United Kingdom  \n",
       "831  12/1/2010 12:23        2.10       17968  United Kingdom  \n",
       "835  12/1/2010 12:23        0.85       17968  United Kingdom  "
      ]
     },
     "execution_count": 16,
     "metadata": {},
     "output_type": "execute_result"
    }
   ],
   "source": [
    "# View the duplicate rows \n",
    "# For example, the rows 598, 601, 604 are the same as we can se notice\n",
    "\n",
    "df[df.duplicated()].head(20)"
   ]
  },
  {
   "cell_type": "code",
   "execution_count": 17,
   "metadata": {},
   "outputs": [
    {
     "data": {
      "text/plain": [
       "(398003, 8)"
      ]
     },
     "execution_count": 17,
     "metadata": {},
     "output_type": "execute_result"
    }
   ],
   "source": [
    "# Deal with the duplicates in this kernel \n",
    "# If you check the first shape we had many duplicates \n",
    "# First we had 541909 and now 398003\n",
    "\n",
    "df.drop_duplicates(inplace = True, keep = 'first')\n",
    "df.shape"
   ]
  },
  {
   "cell_type": "code",
   "execution_count": 18,
   "metadata": {},
   "outputs": [
    {
     "name": "stdout",
     "output_type": "stream",
     "text": [
      "The total amount of duplicates rows after the cleaning are 0\n"
     ]
    }
   ],
   "source": [
    "duplicate_rows_new = df[df.duplicated()].value_counts().sum()\n",
    "print('The total amount of duplicates rows after the cleaning are' , duplicate_rows_new)"
   ]
  },
  {
   "cell_type": "markdown",
   "metadata": {},
   "source": [
    "# Step 3: Time"
   ]
  },
  {
   "cell_type": "code",
   "execution_count": 19,
   "metadata": {},
   "outputs": [
    {
     "data": {
      "text/plain": [
       "0   2010-12-01 08:26:00\n",
       "1   2010-12-01 08:26:00\n",
       "2   2010-12-01 08:26:00\n",
       "3   2010-12-01 08:26:00\n",
       "4   2010-12-01 08:26:00\n",
       "Name: invoice_date, dtype: datetime64[ns]"
      ]
     },
     "execution_count": 19,
     "metadata": {},
     "output_type": "execute_result"
    }
   ],
   "source": [
    "# Change the format of the invoice_date \n",
    "\n",
    "df['invoice_date'] = pd.to_datetime(df['invoice_date'])\n",
    "df['invoice_date'].head()"
   ]
  },
  {
   "cell_type": "code",
   "execution_count": 20,
   "metadata": {},
   "outputs": [
    {
     "name": "stdout",
     "output_type": "stream",
     "text": [
      "The datafile starts with timepoint 2010-12-01 08:26:00 \n",
      "\n",
      "The datafile ends with timepoint 2011-12-09 12:50:00\n"
     ]
    }
   ],
   "source": [
    "print(\"The datafile starts with timepoint {} \\n\".format(df['invoice_date'].min()))\n",
    "\n",
    "\n",
    "print(\"The datafile ends with timepoint {}\".format((df['invoice_date'].max())))"
   ]
  },
  {
   "cell_type": "code",
   "execution_count": 21,
   "metadata": {},
   "outputs": [
    {
     "name": "stdout",
     "output_type": "stream",
     "text": [
      "The most present date is 2011-12-09 12:50:00\n"
     ]
    }
   ],
   "source": [
    "last_date = df['invoice_date'].min()\n",
    "present_date = df['invoice_date'].max()\n",
    "print('The most present date is', present_date)"
   ]
  },
  {
   "cell_type": "code",
   "execution_count": 22,
   "metadata": {},
   "outputs": [
    {
     "data": {
      "text/plain": [
       "invoice_num             object\n",
       "stock_code              object\n",
       "description             object\n",
       "quantity               float64\n",
       "invoice_date    datetime64[ns]\n",
       "unit_price             float64\n",
       "customer_id             object\n",
       "country                 object\n",
       "dtype: object"
      ]
     },
     "execution_count": 22,
     "metadata": {},
     "output_type": "execute_result"
    }
   ],
   "source": [
    "# Because of the dt.strftime and the to_datetime the type of the invoice_date changed twiced and here i make sure it's the right one\n",
    "\n",
    "df.dtypes"
   ]
  },
  {
   "cell_type": "markdown",
   "metadata": {},
   "source": [
    "# Explore the data \n",
    "\n",
    "* After we cleaned the dataset we must dig deeper into this \n",
    "\n",
    "### Countries"
   ]
  },
  {
   "cell_type": "code",
   "execution_count": 23,
   "metadata": {},
   "outputs": [
    {
     "name": "stdout",
     "output_type": "stream",
     "text": [
      "Below are the unique name of the countries: \n",
      "\n"
     ]
    },
    {
     "data": {
      "text/html": [
       "<div>\n",
       "<style scoped>\n",
       "    .dataframe tbody tr th:only-of-type {\n",
       "        vertical-align: middle;\n",
       "    }\n",
       "\n",
       "    .dataframe tbody tr th {\n",
       "        vertical-align: top;\n",
       "    }\n",
       "\n",
       "    .dataframe thead th {\n",
       "        text-align: right;\n",
       "    }\n",
       "</style>\n",
       "<table border=\"1\" class=\"dataframe\">\n",
       "  <thead>\n",
       "    <tr style=\"text-align: right;\">\n",
       "      <th></th>\n",
       "      <th>index</th>\n",
       "      <th>country</th>\n",
       "    </tr>\n",
       "  </thead>\n",
       "  <tbody>\n",
       "    <tr>\n",
       "      <th>0</th>\n",
       "      <td>United Kingdom</td>\n",
       "      <td>353400</td>\n",
       "    </tr>\n",
       "    <tr>\n",
       "      <th>1</th>\n",
       "      <td>Germany</td>\n",
       "      <td>9433</td>\n",
       "    </tr>\n",
       "    <tr>\n",
       "      <th>2</th>\n",
       "      <td>France</td>\n",
       "      <td>8443</td>\n",
       "    </tr>\n",
       "    <tr>\n",
       "      <th>3</th>\n",
       "      <td>EIRE</td>\n",
       "      <td>7419</td>\n",
       "    </tr>\n",
       "    <tr>\n",
       "      <th>4</th>\n",
       "      <td>Spain</td>\n",
       "      <td>2508</td>\n",
       "    </tr>\n",
       "    <tr>\n",
       "      <th>5</th>\n",
       "      <td>Netherlands</td>\n",
       "      <td>2355</td>\n",
       "    </tr>\n",
       "    <tr>\n",
       "      <th>6</th>\n",
       "      <td>Belgium</td>\n",
       "      <td>2060</td>\n",
       "    </tr>\n",
       "    <tr>\n",
       "      <th>7</th>\n",
       "      <td>Switzerland</td>\n",
       "      <td>1866</td>\n",
       "    </tr>\n",
       "    <tr>\n",
       "      <th>8</th>\n",
       "      <td>Portugal</td>\n",
       "      <td>1466</td>\n",
       "    </tr>\n",
       "    <tr>\n",
       "      <th>9</th>\n",
       "      <td>Australia</td>\n",
       "      <td>1250</td>\n",
       "    </tr>\n",
       "    <tr>\n",
       "      <th>10</th>\n",
       "      <td>Norway</td>\n",
       "      <td>1079</td>\n",
       "    </tr>\n",
       "    <tr>\n",
       "      <th>11</th>\n",
       "      <td>Italy</td>\n",
       "      <td>793</td>\n",
       "    </tr>\n",
       "    <tr>\n",
       "      <th>12</th>\n",
       "      <td>Channel Islands</td>\n",
       "      <td>752</td>\n",
       "    </tr>\n",
       "    <tr>\n",
       "      <th>13</th>\n",
       "      <td>Finland</td>\n",
       "      <td>687</td>\n",
       "    </tr>\n",
       "    <tr>\n",
       "      <th>14</th>\n",
       "      <td>Cyprus</td>\n",
       "      <td>604</td>\n",
       "    </tr>\n",
       "    <tr>\n",
       "      <th>15</th>\n",
       "      <td>Sweden</td>\n",
       "      <td>458</td>\n",
       "    </tr>\n",
       "    <tr>\n",
       "      <th>16</th>\n",
       "      <td>Austria</td>\n",
       "      <td>399</td>\n",
       "    </tr>\n",
       "    <tr>\n",
       "      <th>17</th>\n",
       "      <td>Denmark</td>\n",
       "      <td>385</td>\n",
       "    </tr>\n",
       "    <tr>\n",
       "      <th>18</th>\n",
       "      <td>Japan</td>\n",
       "      <td>350</td>\n",
       "    </tr>\n",
       "    <tr>\n",
       "      <th>19</th>\n",
       "      <td>Poland</td>\n",
       "      <td>340</td>\n",
       "    </tr>\n",
       "    <tr>\n",
       "      <th>20</th>\n",
       "      <td>USA</td>\n",
       "      <td>291</td>\n",
       "    </tr>\n",
       "    <tr>\n",
       "      <th>21</th>\n",
       "      <td>Israel</td>\n",
       "      <td>244</td>\n",
       "    </tr>\n",
       "    <tr>\n",
       "      <th>22</th>\n",
       "      <td>Unspecified</td>\n",
       "      <td>239</td>\n",
       "    </tr>\n",
       "    <tr>\n",
       "      <th>23</th>\n",
       "      <td>Singapore</td>\n",
       "      <td>228</td>\n",
       "    </tr>\n",
       "    <tr>\n",
       "      <th>24</th>\n",
       "      <td>Iceland</td>\n",
       "      <td>181</td>\n",
       "    </tr>\n",
       "    <tr>\n",
       "      <th>25</th>\n",
       "      <td>Canada</td>\n",
       "      <td>147</td>\n",
       "    </tr>\n",
       "    <tr>\n",
       "      <th>26</th>\n",
       "      <td>Greece</td>\n",
       "      <td>145</td>\n",
       "    </tr>\n",
       "    <tr>\n",
       "      <th>27</th>\n",
       "      <td>Malta</td>\n",
       "      <td>126</td>\n",
       "    </tr>\n",
       "    <tr>\n",
       "      <th>28</th>\n",
       "      <td>United Arab Emirates</td>\n",
       "      <td>67</td>\n",
       "    </tr>\n",
       "    <tr>\n",
       "      <th>29</th>\n",
       "      <td>European Community</td>\n",
       "      <td>61</td>\n",
       "    </tr>\n",
       "    <tr>\n",
       "      <th>30</th>\n",
       "      <td>RSA</td>\n",
       "      <td>58</td>\n",
       "    </tr>\n",
       "    <tr>\n",
       "      <th>31</th>\n",
       "      <td>Lebanon</td>\n",
       "      <td>45</td>\n",
       "    </tr>\n",
       "    <tr>\n",
       "      <th>32</th>\n",
       "      <td>Lithuania</td>\n",
       "      <td>35</td>\n",
       "    </tr>\n",
       "    <tr>\n",
       "      <th>33</th>\n",
       "      <td>Brazil</td>\n",
       "      <td>32</td>\n",
       "    </tr>\n",
       "    <tr>\n",
       "      <th>34</th>\n",
       "      <td>Czech Republic</td>\n",
       "      <td>30</td>\n",
       "    </tr>\n",
       "    <tr>\n",
       "      <th>35</th>\n",
       "      <td>Bahrain</td>\n",
       "      <td>17</td>\n",
       "    </tr>\n",
       "    <tr>\n",
       "      <th>36</th>\n",
       "      <td>Saudi Arabia</td>\n",
       "      <td>10</td>\n",
       "    </tr>\n",
       "  </tbody>\n",
       "</table>\n",
       "</div>"
      ],
      "text/plain": [
       "                   index  country\n",
       "0         United Kingdom   353400\n",
       "1                Germany     9433\n",
       "2                 France     8443\n",
       "3                   EIRE     7419\n",
       "4                  Spain     2508\n",
       "5            Netherlands     2355\n",
       "6                Belgium     2060\n",
       "7            Switzerland     1866\n",
       "8               Portugal     1466\n",
       "9              Australia     1250\n",
       "10                Norway     1079\n",
       "11                 Italy      793\n",
       "12       Channel Islands      752\n",
       "13               Finland      687\n",
       "14                Cyprus      604\n",
       "15                Sweden      458\n",
       "16               Austria      399\n",
       "17               Denmark      385\n",
       "18                 Japan      350\n",
       "19                Poland      340\n",
       "20                   USA      291\n",
       "21                Israel      244\n",
       "22           Unspecified      239\n",
       "23             Singapore      228\n",
       "24               Iceland      181\n",
       "25                Canada      147\n",
       "26                Greece      145\n",
       "27                 Malta      126\n",
       "28  United Arab Emirates       67\n",
       "29    European Community       61\n",
       "30                   RSA       58\n",
       "31               Lebanon       45\n",
       "32             Lithuania       35\n",
       "33                Brazil       32\n",
       "34        Czech Republic       30\n",
       "35               Bahrain       17\n",
       "36          Saudi Arabia       10"
      ]
     },
     "execution_count": 23,
     "metadata": {},
     "output_type": "execute_result"
    }
   ],
   "source": [
    "# If you are worry about the last country, it's just the Republic of South Africa (RSA) and EIRE is just the Republic of Ireland\n",
    "\n",
    "print('Below are the unique name of the countries: \\n')\n",
    "\n",
    "df['country'].value_counts().reset_index()"
   ]
  },
  {
   "cell_type": "code",
   "execution_count": 24,
   "metadata": {},
   "outputs": [
    {
     "name": "stdout",
     "output_type": "stream",
     "text": [
      "In general the total numbers of the countries are: 37\n"
     ]
    }
   ],
   "source": [
    "print('In general the total numbers of the countries are:' , len(df['country'].unique()))"
   ]
  },
  {
   "cell_type": "code",
   "execution_count": 25,
   "metadata": {},
   "outputs": [
    {
     "data": {
      "text/html": [
       "<div>\n",
       "<style scoped>\n",
       "    .dataframe tbody tr th:only-of-type {\n",
       "        vertical-align: middle;\n",
       "    }\n",
       "\n",
       "    .dataframe tbody tr th {\n",
       "        vertical-align: top;\n",
       "    }\n",
       "\n",
       "    .dataframe thead th {\n",
       "        text-align: right;\n",
       "    }\n",
       "</style>\n",
       "<table border=\"1\" class=\"dataframe\">\n",
       "  <thead>\n",
       "    <tr style=\"text-align: right;\">\n",
       "      <th></th>\n",
       "      <th>country</th>\n",
       "      <th>customer_id</th>\n",
       "    </tr>\n",
       "  </thead>\n",
       "  <tbody>\n",
       "    <tr>\n",
       "      <th>0</th>\n",
       "      <td>United Kingdom</td>\n",
       "      <td>353400</td>\n",
       "    </tr>\n",
       "    <tr>\n",
       "      <th>1</th>\n",
       "      <td>Germany</td>\n",
       "      <td>9433</td>\n",
       "    </tr>\n",
       "    <tr>\n",
       "      <th>2</th>\n",
       "      <td>France</td>\n",
       "      <td>8443</td>\n",
       "    </tr>\n",
       "    <tr>\n",
       "      <th>3</th>\n",
       "      <td>EIRE</td>\n",
       "      <td>7419</td>\n",
       "    </tr>\n",
       "    <tr>\n",
       "      <th>4</th>\n",
       "      <td>Spain</td>\n",
       "      <td>2508</td>\n",
       "    </tr>\n",
       "    <tr>\n",
       "      <th>5</th>\n",
       "      <td>Netherlands</td>\n",
       "      <td>2355</td>\n",
       "    </tr>\n",
       "    <tr>\n",
       "      <th>6</th>\n",
       "      <td>Belgium</td>\n",
       "      <td>2060</td>\n",
       "    </tr>\n",
       "    <tr>\n",
       "      <th>7</th>\n",
       "      <td>Switzerland</td>\n",
       "      <td>1866</td>\n",
       "    </tr>\n",
       "    <tr>\n",
       "      <th>8</th>\n",
       "      <td>Portugal</td>\n",
       "      <td>1466</td>\n",
       "    </tr>\n",
       "    <tr>\n",
       "      <th>9</th>\n",
       "      <td>Australia</td>\n",
       "      <td>1250</td>\n",
       "    </tr>\n",
       "    <tr>\n",
       "      <th>10</th>\n",
       "      <td>Norway</td>\n",
       "      <td>1079</td>\n",
       "    </tr>\n",
       "    <tr>\n",
       "      <th>11</th>\n",
       "      <td>Italy</td>\n",
       "      <td>793</td>\n",
       "    </tr>\n",
       "    <tr>\n",
       "      <th>12</th>\n",
       "      <td>Channel Islands</td>\n",
       "      <td>752</td>\n",
       "    </tr>\n",
       "    <tr>\n",
       "      <th>13</th>\n",
       "      <td>Finland</td>\n",
       "      <td>687</td>\n",
       "    </tr>\n",
       "    <tr>\n",
       "      <th>14</th>\n",
       "      <td>Cyprus</td>\n",
       "      <td>604</td>\n",
       "    </tr>\n",
       "    <tr>\n",
       "      <th>15</th>\n",
       "      <td>Sweden</td>\n",
       "      <td>458</td>\n",
       "    </tr>\n",
       "    <tr>\n",
       "      <th>16</th>\n",
       "      <td>Austria</td>\n",
       "      <td>399</td>\n",
       "    </tr>\n",
       "    <tr>\n",
       "      <th>17</th>\n",
       "      <td>Denmark</td>\n",
       "      <td>385</td>\n",
       "    </tr>\n",
       "    <tr>\n",
       "      <th>18</th>\n",
       "      <td>Japan</td>\n",
       "      <td>350</td>\n",
       "    </tr>\n",
       "    <tr>\n",
       "      <th>19</th>\n",
       "      <td>Poland</td>\n",
       "      <td>340</td>\n",
       "    </tr>\n",
       "    <tr>\n",
       "      <th>20</th>\n",
       "      <td>USA</td>\n",
       "      <td>291</td>\n",
       "    </tr>\n",
       "    <tr>\n",
       "      <th>21</th>\n",
       "      <td>Israel</td>\n",
       "      <td>244</td>\n",
       "    </tr>\n",
       "    <tr>\n",
       "      <th>22</th>\n",
       "      <td>Unspecified</td>\n",
       "      <td>239</td>\n",
       "    </tr>\n",
       "    <tr>\n",
       "      <th>23</th>\n",
       "      <td>Singapore</td>\n",
       "      <td>228</td>\n",
       "    </tr>\n",
       "    <tr>\n",
       "      <th>24</th>\n",
       "      <td>Iceland</td>\n",
       "      <td>181</td>\n",
       "    </tr>\n",
       "    <tr>\n",
       "      <th>25</th>\n",
       "      <td>Canada</td>\n",
       "      <td>147</td>\n",
       "    </tr>\n",
       "    <tr>\n",
       "      <th>26</th>\n",
       "      <td>Greece</td>\n",
       "      <td>145</td>\n",
       "    </tr>\n",
       "    <tr>\n",
       "      <th>27</th>\n",
       "      <td>Malta</td>\n",
       "      <td>126</td>\n",
       "    </tr>\n",
       "    <tr>\n",
       "      <th>28</th>\n",
       "      <td>United Arab Emirates</td>\n",
       "      <td>67</td>\n",
       "    </tr>\n",
       "    <tr>\n",
       "      <th>29</th>\n",
       "      <td>European Community</td>\n",
       "      <td>61</td>\n",
       "    </tr>\n",
       "    <tr>\n",
       "      <th>30</th>\n",
       "      <td>RSA</td>\n",
       "      <td>58</td>\n",
       "    </tr>\n",
       "    <tr>\n",
       "      <th>31</th>\n",
       "      <td>Lebanon</td>\n",
       "      <td>45</td>\n",
       "    </tr>\n",
       "    <tr>\n",
       "      <th>32</th>\n",
       "      <td>Lithuania</td>\n",
       "      <td>35</td>\n",
       "    </tr>\n",
       "    <tr>\n",
       "      <th>33</th>\n",
       "      <td>Brazil</td>\n",
       "      <td>32</td>\n",
       "    </tr>\n",
       "    <tr>\n",
       "      <th>34</th>\n",
       "      <td>Czech Republic</td>\n",
       "      <td>30</td>\n",
       "    </tr>\n",
       "    <tr>\n",
       "      <th>35</th>\n",
       "      <td>Bahrain</td>\n",
       "      <td>17</td>\n",
       "    </tr>\n",
       "    <tr>\n",
       "      <th>36</th>\n",
       "      <td>Saudi Arabia</td>\n",
       "      <td>10</td>\n",
       "    </tr>\n",
       "  </tbody>\n",
       "</table>\n",
       "</div>"
      ],
      "text/plain": [
       "                 country  customer_id\n",
       "0         United Kingdom       353400\n",
       "1                Germany         9433\n",
       "2                 France         8443\n",
       "3                   EIRE         7419\n",
       "4                  Spain         2508\n",
       "5            Netherlands         2355\n",
       "6                Belgium         2060\n",
       "7            Switzerland         1866\n",
       "8               Portugal         1466\n",
       "9              Australia         1250\n",
       "10                Norway         1079\n",
       "11                 Italy          793\n",
       "12       Channel Islands          752\n",
       "13               Finland          687\n",
       "14                Cyprus          604\n",
       "15                Sweden          458\n",
       "16               Austria          399\n",
       "17               Denmark          385\n",
       "18                 Japan          350\n",
       "19                Poland          340\n",
       "20                   USA          291\n",
       "21                Israel          244\n",
       "22           Unspecified          239\n",
       "23             Singapore          228\n",
       "24               Iceland          181\n",
       "25                Canada          147\n",
       "26                Greece          145\n",
       "27                 Malta          126\n",
       "28  United Arab Emirates           67\n",
       "29    European Community           61\n",
       "30                   RSA           58\n",
       "31               Lebanon           45\n",
       "32             Lithuania           35\n",
       "33                Brazil           32\n",
       "34        Czech Republic           30\n",
       "35               Bahrain           17\n",
       "36          Saudi Arabia           10"
      ]
     },
     "execution_count": 25,
     "metadata": {},
     "output_type": "execute_result"
    }
   ],
   "source": [
    "# How many customers per country \n",
    "\n",
    "country_df = df[['country' , 'customer_id']]\n",
    "country_df.groupby(['country']).agg({'customer_id' : 'count'}).sort_values('customer_id', ascending = False).reset_index()"
   ]
  },
  {
   "cell_type": "code",
   "execution_count": 26,
   "metadata": {},
   "outputs": [
    {
     "data": {
      "image/png": "[encoded data removed]",
      "text/plain": [
       "<Figure size 1440x720 with 1 Axes>"
      ]
     },
     "metadata": {},
     "output_type": "display_data"
    }
   ],
   "source": [
    "#set sns theme\n",
    "sns.set_theme(style=\"whitegrid\")\n",
    "\n",
    "#set plot size\n",
    "fig = plt.subplots(figsize=(20, 10))\n",
    "\n",
    "#plot count of each RFM segment\n",
    "sns.countplot(x=\"country\", data=country_df).set_title('Customers per Country', weight = 'bold').set_fontsize('20')\n",
    "plt.xticks(rotation=90)\n",
    "\n",
    "plt.show()"
   ]
  },
  {
   "cell_type": "code",
   "execution_count": 27,
   "metadata": {},
   "outputs": [
    {
     "data": {
      "text/html": [
       "<div>\n",
       "<style scoped>\n",
       "    .dataframe tbody tr th:only-of-type {\n",
       "        vertical-align: middle;\n",
       "    }\n",
       "\n",
       "    .dataframe tbody tr th {\n",
       "        vertical-align: top;\n",
       "    }\n",
       "\n",
       "    .dataframe thead th {\n",
       "        text-align: right;\n",
       "    }\n",
       "</style>\n",
       "<table border=\"1\" class=\"dataframe\">\n",
       "  <thead>\n",
       "    <tr style=\"text-align: right;\">\n",
       "      <th></th>\n",
       "      <th>country</th>\n",
       "      <th>invoice_num</th>\n",
       "    </tr>\n",
       "  </thead>\n",
       "  <tbody>\n",
       "    <tr>\n",
       "      <th>0</th>\n",
       "      <td>United Kingdom</td>\n",
       "      <td>353400</td>\n",
       "    </tr>\n",
       "    <tr>\n",
       "      <th>1</th>\n",
       "      <td>Germany</td>\n",
       "      <td>9433</td>\n",
       "    </tr>\n",
       "    <tr>\n",
       "      <th>2</th>\n",
       "      <td>France</td>\n",
       "      <td>8443</td>\n",
       "    </tr>\n",
       "    <tr>\n",
       "      <th>3</th>\n",
       "      <td>EIRE</td>\n",
       "      <td>7419</td>\n",
       "    </tr>\n",
       "    <tr>\n",
       "      <th>4</th>\n",
       "      <td>Spain</td>\n",
       "      <td>2508</td>\n",
       "    </tr>\n",
       "    <tr>\n",
       "      <th>5</th>\n",
       "      <td>Netherlands</td>\n",
       "      <td>2355</td>\n",
       "    </tr>\n",
       "    <tr>\n",
       "      <th>6</th>\n",
       "      <td>Belgium</td>\n",
       "      <td>2060</td>\n",
       "    </tr>\n",
       "    <tr>\n",
       "      <th>7</th>\n",
       "      <td>Switzerland</td>\n",
       "      <td>1866</td>\n",
       "    </tr>\n",
       "    <tr>\n",
       "      <th>8</th>\n",
       "      <td>Portugal</td>\n",
       "      <td>1466</td>\n",
       "    </tr>\n",
       "    <tr>\n",
       "      <th>9</th>\n",
       "      <td>Australia</td>\n",
       "      <td>1250</td>\n",
       "    </tr>\n",
       "    <tr>\n",
       "      <th>10</th>\n",
       "      <td>Norway</td>\n",
       "      <td>1079</td>\n",
       "    </tr>\n",
       "    <tr>\n",
       "      <th>11</th>\n",
       "      <td>Italy</td>\n",
       "      <td>793</td>\n",
       "    </tr>\n",
       "    <tr>\n",
       "      <th>12</th>\n",
       "      <td>Channel Islands</td>\n",
       "      <td>752</td>\n",
       "    </tr>\n",
       "    <tr>\n",
       "      <th>13</th>\n",
       "      <td>Finland</td>\n",
       "      <td>687</td>\n",
       "    </tr>\n",
       "    <tr>\n",
       "      <th>14</th>\n",
       "      <td>Cyprus</td>\n",
       "      <td>604</td>\n",
       "    </tr>\n",
       "    <tr>\n",
       "      <th>15</th>\n",
       "      <td>Sweden</td>\n",
       "      <td>458</td>\n",
       "    </tr>\n",
       "    <tr>\n",
       "      <th>16</th>\n",
       "      <td>Austria</td>\n",
       "      <td>399</td>\n",
       "    </tr>\n",
       "    <tr>\n",
       "      <th>17</th>\n",
       "      <td>Denmark</td>\n",
       "      <td>385</td>\n",
       "    </tr>\n",
       "    <tr>\n",
       "      <th>18</th>\n",
       "      <td>Japan</td>\n",
       "      <td>350</td>\n",
       "    </tr>\n",
       "    <tr>\n",
       "      <th>19</th>\n",
       "      <td>Poland</td>\n",
       "      <td>340</td>\n",
       "    </tr>\n",
       "    <tr>\n",
       "      <th>20</th>\n",
       "      <td>USA</td>\n",
       "      <td>291</td>\n",
       "    </tr>\n",
       "    <tr>\n",
       "      <th>21</th>\n",
       "      <td>Israel</td>\n",
       "      <td>244</td>\n",
       "    </tr>\n",
       "    <tr>\n",
       "      <th>22</th>\n",
       "      <td>Unspecified</td>\n",
       "      <td>239</td>\n",
       "    </tr>\n",
       "    <tr>\n",
       "      <th>23</th>\n",
       "      <td>Singapore</td>\n",
       "      <td>228</td>\n",
       "    </tr>\n",
       "    <tr>\n",
       "      <th>24</th>\n",
       "      <td>Iceland</td>\n",
       "      <td>181</td>\n",
       "    </tr>\n",
       "    <tr>\n",
       "      <th>25</th>\n",
       "      <td>Canada</td>\n",
       "      <td>147</td>\n",
       "    </tr>\n",
       "    <tr>\n",
       "      <th>26</th>\n",
       "      <td>Greece</td>\n",
       "      <td>145</td>\n",
       "    </tr>\n",
       "    <tr>\n",
       "      <th>27</th>\n",
       "      <td>Malta</td>\n",
       "      <td>126</td>\n",
       "    </tr>\n",
       "    <tr>\n",
       "      <th>28</th>\n",
       "      <td>United Arab Emirates</td>\n",
       "      <td>67</td>\n",
       "    </tr>\n",
       "    <tr>\n",
       "      <th>29</th>\n",
       "      <td>European Community</td>\n",
       "      <td>61</td>\n",
       "    </tr>\n",
       "    <tr>\n",
       "      <th>30</th>\n",
       "      <td>RSA</td>\n",
       "      <td>58</td>\n",
       "    </tr>\n",
       "    <tr>\n",
       "      <th>31</th>\n",
       "      <td>Lebanon</td>\n",
       "      <td>45</td>\n",
       "    </tr>\n",
       "    <tr>\n",
       "      <th>32</th>\n",
       "      <td>Lithuania</td>\n",
       "      <td>35</td>\n",
       "    </tr>\n",
       "    <tr>\n",
       "      <th>33</th>\n",
       "      <td>Brazil</td>\n",
       "      <td>32</td>\n",
       "    </tr>\n",
       "    <tr>\n",
       "      <th>34</th>\n",
       "      <td>Czech Republic</td>\n",
       "      <td>30</td>\n",
       "    </tr>\n",
       "    <tr>\n",
       "      <th>35</th>\n",
       "      <td>Bahrain</td>\n",
       "      <td>17</td>\n",
       "    </tr>\n",
       "    <tr>\n",
       "      <th>36</th>\n",
       "      <td>Saudi Arabia</td>\n",
       "      <td>10</td>\n",
       "    </tr>\n",
       "  </tbody>\n",
       "</table>\n",
       "</div>"
      ],
      "text/plain": [
       "                 country  invoice_num\n",
       "0         United Kingdom       353400\n",
       "1                Germany         9433\n",
       "2                 France         8443\n",
       "3                   EIRE         7419\n",
       "4                  Spain         2508\n",
       "5            Netherlands         2355\n",
       "6                Belgium         2060\n",
       "7            Switzerland         1866\n",
       "8               Portugal         1466\n",
       "9              Australia         1250\n",
       "10                Norway         1079\n",
       "11                 Italy          793\n",
       "12       Channel Islands          752\n",
       "13               Finland          687\n",
       "14                Cyprus          604\n",
       "15                Sweden          458\n",
       "16               Austria          399\n",
       "17               Denmark          385\n",
       "18                 Japan          350\n",
       "19                Poland          340\n",
       "20                   USA          291\n",
       "21                Israel          244\n",
       "22           Unspecified          239\n",
       "23             Singapore          228\n",
       "24               Iceland          181\n",
       "25                Canada          147\n",
       "26                Greece          145\n",
       "27                 Malta          126\n",
       "28  United Arab Emirates           67\n",
       "29    European Community           61\n",
       "30                   RSA           58\n",
       "31               Lebanon           45\n",
       "32             Lithuania           35\n",
       "33                Brazil           32\n",
       "34        Czech Republic           30\n",
       "35               Bahrain           17\n",
       "36          Saudi Arabia           10"
      ]
     },
     "execution_count": 27,
     "metadata": {},
     "output_type": "execute_result"
    }
   ],
   "source": [
    "# Now we will look at the details of the countries through which most of the orders were placed\n",
    "\n",
    "df[['invoice_num','country']].groupby('country').count().sort_values(\"invoice_num\",ascending = False).reset_index()"
   ]
  },
  {
   "cell_type": "code",
   "execution_count": 28,
   "metadata": {},
   "outputs": [
    {
     "data": {
      "image/png": "[encoded data removed]",
      "text/plain": [
       "<Figure size 720x504 with 1 Axes>"
      ]
     },
     "metadata": {},
     "output_type": "display_data"
    }
   ],
   "source": [
    "# Creating a Pie Chart to Visualize the the data better\n",
    "\n",
    "# Creating dataset \n",
    "country = ['Greece','Netherlands', 'Belgium', 'France' , 'EIRE', 'Spain' , 'Portugal', 'Iceland','Switzerland']\n",
    "invoice = [2363,2355, 2060, 8443 ,7419 ,2508 ,1466,181,1866]\n",
    "\n",
    "# Creating plot \n",
    "fig = plt.figure(figsize =(10, 7)) \n",
    "plt.pie(invoice, labels = country)\n",
    "\n",
    "# Set a title\n",
    "plt.title('Pie chart of different countries', weight = 'bold').set_fontsize('13')  \n",
    "\n",
    "# show plot \n",
    "plt.show() "
   ]
  },
  {
   "cell_type": "code",
   "execution_count": 29,
   "metadata": {},
   "outputs": [
    {
     "data": {
      "text/html": [
       "<div>\n",
       "<style scoped>\n",
       "    .dataframe tbody tr th:only-of-type {\n",
       "        vertical-align: middle;\n",
       "    }\n",
       "\n",
       "    .dataframe tbody tr th {\n",
       "        vertical-align: top;\n",
       "    }\n",
       "\n",
       "    .dataframe thead th {\n",
       "        text-align: right;\n",
       "    }\n",
       "</style>\n",
       "<table border=\"1\" class=\"dataframe\">\n",
       "  <thead>\n",
       "    <tr style=\"text-align: right;\">\n",
       "      <th></th>\n",
       "      <th>quantity</th>\n",
       "      <th>unit_price</th>\n",
       "    </tr>\n",
       "  </thead>\n",
       "  <tbody>\n",
       "    <tr>\n",
       "      <th>count</th>\n",
       "      <td>398003.00</td>\n",
       "      <td>398003.00</td>\n",
       "    </tr>\n",
       "    <tr>\n",
       "      <th>mean</th>\n",
       "      <td>12.16</td>\n",
       "      <td>3.49</td>\n",
       "    </tr>\n",
       "    <tr>\n",
       "      <th>std</th>\n",
       "      <td>173.84</td>\n",
       "      <td>70.08</td>\n",
       "    </tr>\n",
       "    <tr>\n",
       "      <th>min</th>\n",
       "      <td>-74215.00</td>\n",
       "      <td>0.00</td>\n",
       "    </tr>\n",
       "    <tr>\n",
       "      <th>25%</th>\n",
       "      <td>2.00</td>\n",
       "      <td>1.25</td>\n",
       "    </tr>\n",
       "    <tr>\n",
       "      <th>50%</th>\n",
       "      <td>5.00</td>\n",
       "      <td>1.95</td>\n",
       "    </tr>\n",
       "    <tr>\n",
       "      <th>75%</th>\n",
       "      <td>12.00</td>\n",
       "      <td>3.75</td>\n",
       "    </tr>\n",
       "    <tr>\n",
       "      <th>max</th>\n",
       "      <td>74215.00</td>\n",
       "      <td>38970.00</td>\n",
       "    </tr>\n",
       "  </tbody>\n",
       "</table>\n",
       "</div>"
      ],
      "text/plain": [
       "        quantity  unit_price\n",
       "count  398003.00   398003.00\n",
       "mean       12.16        3.49\n",
       "std       173.84       70.08\n",
       "min    -74215.00        0.00\n",
       "25%         2.00        1.25\n",
       "50%         5.00        1.95\n",
       "75%        12.00        3.75\n",
       "max     74215.00    38970.00"
      ]
     },
     "execution_count": 29,
     "metadata": {},
     "output_type": "execute_result"
    }
   ],
   "source": [
    "df.describe().round(2)"
   ]
  },
  {
   "cell_type": "code",
   "execution_count": 30,
   "metadata": {},
   "outputs": [
    {
     "name": "stdout",
     "output_type": "stream",
     "text": [
      "invoice_num: 22161 items\n",
      "stock_code: 3603 items\n",
      "description: 3792 items\n",
      "quantity: 434 items\n",
      "invoice_date: 20433 items\n",
      "unit_price: 618 items\n",
      "customer_id: 4370 items\n",
      "country: 37 items\n"
     ]
    }
   ],
   "source": [
    "# How many unique product are there?\n",
    "\n",
    "for col in df.columns:\n",
    "    print(f'{col}: {df[col].nunique()} items')"
   ]
  },
  {
   "cell_type": "code",
   "execution_count": 31,
   "metadata": {},
   "outputs": [
    {
     "data": {
      "text/plain": [
       "85123A    2065\n",
       "22423     1894\n",
       "85099B    1659\n",
       "47566     1409\n",
       "84879     1405\n",
       "20725     1346\n",
       "22720     1224\n",
       "POST      1196\n",
       "22197     1110\n",
       "23203     1108\n",
       "Name: stock_code, dtype: int64"
      ]
     },
     "execution_count": 31,
     "metadata": {},
     "output_type": "execute_result"
    }
   ],
   "source": [
    "# How many of each product are there?\n",
    "\n",
    "df['stock_code'].value_counts().head(10)"
   ]
  },
  {
   "cell_type": "code",
   "execution_count": 32,
   "metadata": {},
   "outputs": [
    {
     "name": "stdout",
     "output_type": "stream",
     "text": [
      "Below are the top five items we have: \n",
      "\n"
     ]
    },
    {
     "data": {
      "text/plain": [
       "stock_code  description                       \n",
       "85123A      WHITE HANGING HEART T-LIGHT HOLDER    2058\n",
       "22423       REGENCY CAKESTAND 3 TIER              1894\n",
       "85099B      JUMBO BAG RED RETROSPOT               1659\n",
       "47566       PARTY BUNTING                         1409\n",
       "84879       ASSORTED COLOUR BIRD ORNAMENT         1405\n",
       "Name: description, dtype: int64"
      ]
     },
     "execution_count": 32,
     "metadata": {},
     "output_type": "execute_result"
    }
   ],
   "source": [
    "# But what kinf of products are these ? \n",
    "\n",
    "print('Below are the top five items we have: \\n')\n",
    "\n",
    "most_stock_item = df.groupby('stock_code')['description'].value_counts().sort_values(ascending=False)\n",
    "most_stock_item.head()"
   ]
  },
  {
   "cell_type": "code",
   "execution_count": 33,
   "metadata": {},
   "outputs": [
    {
     "name": "stdout",
     "output_type": "stream",
     "text": [
      "Below are the last five items we have: \n",
      "\n"
     ]
    },
    {
     "data": {
      "text/plain": [
       "stock_code  description                    \n",
       "84877A      PINK ROUND COMPACT MIRROR          1\n",
       "90165B      WHITE ROSEBUD  PEARL EARRINGS      1\n",
       "84569C      PACK 4 FLOWER/BUTTERFLY PATCHES    1\n",
       "90167       BEADED LOVE HEART JEWELLERY SET    1\n",
       "84551       CROCHET DOG KEYRING                1\n",
       "Name: description, dtype: int64"
      ]
     },
     "execution_count": 33,
     "metadata": {},
     "output_type": "execute_result"
    }
   ],
   "source": [
    "# But what kinf of products are these ? \n",
    "\n",
    "print('Below are the last five items we have: \\n')\n",
    "\n",
    "most_stock_item = df.groupby('stock_code')['description'].value_counts().sort_values(ascending=True)\n",
    "most_stock_item.head()"
   ]
  },
  {
   "cell_type": "code",
   "execution_count": 34,
   "metadata": {},
   "outputs": [
    {
     "name": "stdout",
     "output_type": "stream",
     "text": [
      "The most wanted items in the dataset are \n",
      "\n"
     ]
    },
    {
     "data": {
      "text/plain": [
       "description\n",
       "WORLD WAR 2 GLIDERS ASSTD DESIGNS     53119\n",
       "JUMBO BAG RED RETROSPOT               44963\n",
       "ASSORTED COLOUR BIRD ORNAMENT         35215\n",
       "WHITE HANGING HEART T-LIGHT HOLDER    34128\n",
       "PACK OF 72 RETROSPOT CAKE CASES       33386\n",
       "POPCORN HOLDER                        30492\n",
       "RABBIT NIGHT LIGHT                    27045\n",
       "MINI PAINT SET VINTAGE                25880\n",
       "PACK OF 12 LONDON TISSUES             25305\n",
       "PACK OF 60 PINK PAISLEY CAKE CASES    24129\n",
       "BROCADE RING PURSE                    22924\n",
       "VICTORIAN GLASS HANGING T-LIGHT       21955\n",
       "ASSORTED COLOURS SILK FAN             21132\n",
       "RED  HARMONICA IN BOX                 20882\n",
       "JUMBO BAG PINK POLKADOT               19692\n",
       "SMALL POPCORN HOLDER                  18197\n",
       "60 TEATIME FAIRY CAKE CASES           17514\n",
       "LUNCH BAG RED RETROSPOT               17024\n",
       "HEART OF WICKER SMALL                 16633\n",
       "JUMBO BAG STRAWBERRY                  16521\n",
       "Name: quantity, dtype: int32"
      ]
     },
     "execution_count": 34,
     "metadata": {},
     "output_type": "execute_result"
    }
   ],
   "source": [
    "# Sort the 5 most ordered products from most to least.\n",
    "\n",
    "print('The most wanted items in the dataset are \\n')\n",
    "\n",
    "df.groupby('description')['quantity'].sum().sort_values(ascending = False).head(20).astype(int)"
   ]
  },
  {
   "cell_type": "code",
   "execution_count": 35,
   "metadata": {},
   "outputs": [
    {
     "name": "stdout",
     "output_type": "stream",
     "text": [
      "The most not wanted items in the dataset are \n",
      "\n"
     ]
    },
    {
     "data": {
      "text/plain": [
       "description\n",
       "SMALL TAHITI BEACH BAG                   -1\n",
       "TEA TIME CAKE STAND IN GIFT BOX          -1\n",
       "WOOLLY HAT SOCK GLOVE ADVENT STRING      -1\n",
       "BLUE FLYING SINGING CANARY               -1\n",
       "3 WICK CHRISTMAS BRIAR CANDLE            -2\n",
       "ANTIQUE LILY FAIRY LIGHTS                -3\n",
       "CREAM SWEETHEART MAGAZINE RACK           -3\n",
       "PINK SMALL GLASS CAKE STAND              -3\n",
       "PINK CHERRY LIGHTS                       -4\n",
       "CHALKBOARD KITCHEN ORGANISER             -4\n",
       "BLUE PADDED SOFT MOBILE                  -6\n",
       "VINTAGE GOLD TINSEL REEL                 -6\n",
       "WOODEN BOX ADVENT CALENDAR               -6\n",
       "WHITE CHERRY LIGHTS                      -8\n",
       "ROBIN CHRISTMAS CARD                     -9\n",
       "PINK POODLE HANGING DECORATION          -12\n",
       "CRUK Commission                         -16\n",
       "ASSORTED TUTTI FRUTTI ROUND BOX         -24\n",
       "Discount                              -1194\n",
       "ROTATING SILVER ANGELS T-LIGHT HLDR   -1475\n",
       "Name: quantity, dtype: int32"
      ]
     },
     "execution_count": 35,
     "metadata": {},
     "output_type": "execute_result"
    }
   ],
   "source": [
    "# Sort the 5 not most ordered products from most to least.\n",
    "# The negative values maybe it's a problem in the dataset or the products were not delived at all \n",
    "\n",
    "print('The most not wanted items in the dataset are \\n')\n",
    "\n",
    "df.groupby('description')['quantity'].sum().sort_values(ascending = False).tail(20).astype(int)"
   ]
  },
  {
   "cell_type": "markdown",
   "metadata": {},
   "source": [
    "### Stock code "
   ]
  },
  {
   "cell_type": "code",
   "execution_count": 36,
   "metadata": {},
   "outputs": [
    {
     "data": {
      "text/plain": [
       "array(['POST', 'D', 'C2', 'M', 'BANK CHARGES', 'PADS', 'DOT', 'CRUK'],\n",
       "      dtype=object)"
      ]
     },
     "execution_count": 36,
     "metadata": {},
     "output_type": "execute_result"
    }
   ],
   "source": [
    "# View all the stock code of the dataset \n",
    "\n",
    "list_special_codes = df[df['stock_code'].str.contains('^[a-zA-Z]+', regex=True)]['stock_code'].unique()\n",
    "list_special_codes"
   ]
  },
  {
   "cell_type": "code",
   "execution_count": 37,
   "metadata": {},
   "outputs": [
    {
     "name": "stdout",
     "output_type": "stream",
     "text": [
      "POST            ->  POSTAGE                       \n",
      "D               ->  Discount                      \n",
      "C2              ->  CARRIAGE                      \n",
      "M               ->  Manual                        \n",
      "BANK CHARGES    ->  Bank Charges                  \n",
      "PADS            ->  PADS TO MATCH ALL CUSHIONS    \n",
      "DOT             ->  DOTCOM POSTAGE                \n",
      "CRUK            ->  CRUK Commission               \n"
     ]
    }
   ],
   "source": [
    "for code in list_special_codes:\n",
    "    print(\"{:<15} ->  {:<30}\".format(code, df[df['stock_code'] == code]['description'].unique()[0]))"
   ]
  },
  {
   "cell_type": "markdown",
   "metadata": {},
   "source": [
    "### Cancelled Orders & Quantity"
   ]
  },
  {
   "cell_type": "code",
   "execution_count": 38,
   "metadata": {},
   "outputs": [
    {
     "name": "stdout",
     "output_type": "stream",
     "text": [
      "The total number of items that was canceled are 8807\n"
     ]
    }
   ],
   "source": [
    "# The number of canceled orders \n",
    "# In the data description we can find that a cancelled transactions starts with a \"C\" in front of it. \n",
    "# Let's create a feature to easily filter out these cases:\n",
    "\n",
    "canceled = (df[\"invoice_num\"].str.contains(\"C\", na=False)).sum()\n",
    "\n",
    "print('The total number of items that was canceled are', canceled)"
   ]
  },
  {
   "cell_type": "code",
   "execution_count": 39,
   "metadata": {},
   "outputs": [
    {
     "name": "stdout",
     "output_type": "stream",
     "text": [
      "The percentage of canceled orders is  2.21 %\n"
     ]
    }
   ],
   "source": [
    "per_canceled = ((canceled / df.shape[0]) * 100 ).round(2)\n",
    "\n",
    "print('The percentage of canceled orders is ',per_canceled , '%')"
   ]
  },
  {
   "cell_type": "code",
   "execution_count": 40,
   "metadata": {},
   "outputs": [
    {
     "name": "stdout",
     "output_type": "stream",
     "text": [
      "True\n"
     ]
    }
   ],
   "source": [
    "# I am checking if there is negative quantity in tha data \n",
    "# Unluckily we have at least one \n",
    "\n",
    "flag = False\n",
    "if (df['quantity'] < 0).any(): \n",
    "    flag = True\n",
    "    print(flag)"
   ]
  },
  {
   "cell_type": "code",
   "execution_count": 41,
   "metadata": {},
   "outputs": [],
   "source": [
    "df['canceled'] = df['invoice_num'].apply(lambda x : 'Yes' if x[0] == 'C' else 'No')"
   ]
  },
  {
   "cell_type": "code",
   "execution_count": 42,
   "metadata": {},
   "outputs": [
    {
     "data": {
      "text/html": [
       "<div>\n",
       "<style scoped>\n",
       "    .dataframe tbody tr th:only-of-type {\n",
       "        vertical-align: middle;\n",
       "    }\n",
       "\n",
       "    .dataframe tbody tr th {\n",
       "        vertical-align: top;\n",
       "    }\n",
       "\n",
       "    .dataframe thead th {\n",
       "        text-align: right;\n",
       "    }\n",
       "</style>\n",
       "<table border=\"1\" class=\"dataframe\">\n",
       "  <thead>\n",
       "    <tr style=\"text-align: right;\">\n",
       "      <th></th>\n",
       "      <th>invoice_num</th>\n",
       "      <th>stock_code</th>\n",
       "      <th>description</th>\n",
       "      <th>quantity</th>\n",
       "      <th>invoice_date</th>\n",
       "      <th>unit_price</th>\n",
       "      <th>customer_id</th>\n",
       "      <th>country</th>\n",
       "      <th>canceled</th>\n",
       "    </tr>\n",
       "  </thead>\n",
       "  <tbody>\n",
       "    <tr>\n",
       "      <th>141</th>\n",
       "      <td>C536379</td>\n",
       "      <td>D</td>\n",
       "      <td>Discount</td>\n",
       "      <td>-1.0</td>\n",
       "      <td>2010-12-01 09:41:00</td>\n",
       "      <td>27.50</td>\n",
       "      <td>14527</td>\n",
       "      <td>United Kingdom</td>\n",
       "      <td>Yes</td>\n",
       "    </tr>\n",
       "    <tr>\n",
       "      <th>154</th>\n",
       "      <td>C536383</td>\n",
       "      <td>35004C</td>\n",
       "      <td>SET OF 3 COLOURED  FLYING DUCKS</td>\n",
       "      <td>-1.0</td>\n",
       "      <td>2010-12-01 09:49:00</td>\n",
       "      <td>4.65</td>\n",
       "      <td>15311</td>\n",
       "      <td>United Kingdom</td>\n",
       "      <td>Yes</td>\n",
       "    </tr>\n",
       "    <tr>\n",
       "      <th>235</th>\n",
       "      <td>C536391</td>\n",
       "      <td>22556</td>\n",
       "      <td>PLASTERS IN TIN CIRCUS PARADE</td>\n",
       "      <td>-12.0</td>\n",
       "      <td>2010-12-01 10:24:00</td>\n",
       "      <td>1.65</td>\n",
       "      <td>17548</td>\n",
       "      <td>United Kingdom</td>\n",
       "      <td>Yes</td>\n",
       "    </tr>\n",
       "    <tr>\n",
       "      <th>236</th>\n",
       "      <td>C536391</td>\n",
       "      <td>21984</td>\n",
       "      <td>PACK OF 12 PINK PAISLEY TISSUES</td>\n",
       "      <td>-24.0</td>\n",
       "      <td>2010-12-01 10:24:00</td>\n",
       "      <td>0.29</td>\n",
       "      <td>17548</td>\n",
       "      <td>United Kingdom</td>\n",
       "      <td>Yes</td>\n",
       "    </tr>\n",
       "    <tr>\n",
       "      <th>237</th>\n",
       "      <td>C536391</td>\n",
       "      <td>21983</td>\n",
       "      <td>PACK OF 12 BLUE PAISLEY TISSUES</td>\n",
       "      <td>-24.0</td>\n",
       "      <td>2010-12-01 10:24:00</td>\n",
       "      <td>0.29</td>\n",
       "      <td>17548</td>\n",
       "      <td>United Kingdom</td>\n",
       "      <td>Yes</td>\n",
       "    </tr>\n",
       "  </tbody>\n",
       "</table>\n",
       "</div>"
      ],
      "text/plain": [
       "    invoice_num stock_code                       description  quantity  \\\n",
       "141     C536379          D                          Discount      -1.0   \n",
       "154     C536383     35004C   SET OF 3 COLOURED  FLYING DUCKS      -1.0   \n",
       "235     C536391      22556    PLASTERS IN TIN CIRCUS PARADE      -12.0   \n",
       "236     C536391      21984  PACK OF 12 PINK PAISLEY TISSUES      -24.0   \n",
       "237     C536391      21983  PACK OF 12 BLUE PAISLEY TISSUES      -24.0   \n",
       "\n",
       "           invoice_date  unit_price customer_id         country canceled  \n",
       "141 2010-12-01 09:41:00       27.50       14527  United Kingdom      Yes  \n",
       "154 2010-12-01 09:49:00        4.65       15311  United Kingdom      Yes  \n",
       "235 2010-12-01 10:24:00        1.65       17548  United Kingdom      Yes  \n",
       "236 2010-12-01 10:24:00        0.29       17548  United Kingdom      Yes  \n",
       "237 2010-12-01 10:24:00        0.29       17548  United Kingdom      Yes  "
      ]
     },
     "execution_count": 42,
     "metadata": {},
     "output_type": "execute_result"
    }
   ],
   "source": [
    "# There is negative quantity in the dataset. Let's check it\n",
    "# Obviously there are negative quantity \n",
    "\n",
    "negative_quantity = df[df['quantity'] < 0]\n",
    "negative_quantity.head()"
   ]
  },
  {
   "cell_type": "code",
   "execution_count": 43,
   "metadata": {},
   "outputs": [
    {
     "name": "stdout",
     "output_type": "stream",
     "text": [
      "The total number of items that was canceled are 8807\n"
     ]
    }
   ],
   "source": [
    "print('The total number of items that was canceled are',negative_quantity.value_counts().sum() ) "
   ]
  },
  {
   "cell_type": "code",
   "execution_count": 44,
   "metadata": {},
   "outputs": [
    {
     "data": {
      "text/html": [
       "<div>\n",
       "<style scoped>\n",
       "    .dataframe tbody tr th:only-of-type {\n",
       "        vertical-align: middle;\n",
       "    }\n",
       "\n",
       "    .dataframe tbody tr th {\n",
       "        vertical-align: top;\n",
       "    }\n",
       "\n",
       "    .dataframe thead th {\n",
       "        text-align: right;\n",
       "    }\n",
       "</style>\n",
       "<table border=\"1\" class=\"dataframe\">\n",
       "  <thead>\n",
       "    <tr style=\"text-align: right;\">\n",
       "      <th></th>\n",
       "      <th>invoice_num</th>\n",
       "      <th>stock_code</th>\n",
       "      <th>description</th>\n",
       "      <th>quantity</th>\n",
       "      <th>invoice_date</th>\n",
       "      <th>unit_price</th>\n",
       "      <th>customer_id</th>\n",
       "      <th>country</th>\n",
       "      <th>canceled</th>\n",
       "    </tr>\n",
       "  </thead>\n",
       "  <tbody>\n",
       "    <tr>\n",
       "      <th>0</th>\n",
       "      <td>536365</td>\n",
       "      <td>85123A</td>\n",
       "      <td>WHITE HANGING HEART T-LIGHT HOLDER</td>\n",
       "      <td>6.0</td>\n",
       "      <td>2010-12-01 08:26:00</td>\n",
       "      <td>2.55</td>\n",
       "      <td>17850</td>\n",
       "      <td>United Kingdom</td>\n",
       "      <td>No</td>\n",
       "    </tr>\n",
       "    <tr>\n",
       "      <th>1</th>\n",
       "      <td>536365</td>\n",
       "      <td>71053</td>\n",
       "      <td>WHITE METAL LANTERN</td>\n",
       "      <td>6.0</td>\n",
       "      <td>2010-12-01 08:26:00</td>\n",
       "      <td>3.39</td>\n",
       "      <td>17850</td>\n",
       "      <td>United Kingdom</td>\n",
       "      <td>No</td>\n",
       "    </tr>\n",
       "    <tr>\n",
       "      <th>2</th>\n",
       "      <td>536365</td>\n",
       "      <td>84406B</td>\n",
       "      <td>CREAM CUPID HEARTS COAT HANGER</td>\n",
       "      <td>8.0</td>\n",
       "      <td>2010-12-01 08:26:00</td>\n",
       "      <td>2.75</td>\n",
       "      <td>17850</td>\n",
       "      <td>United Kingdom</td>\n",
       "      <td>No</td>\n",
       "    </tr>\n",
       "    <tr>\n",
       "      <th>3</th>\n",
       "      <td>536365</td>\n",
       "      <td>84029G</td>\n",
       "      <td>KNITTED UNION FLAG HOT WATER BOTTLE</td>\n",
       "      <td>6.0</td>\n",
       "      <td>2010-12-01 08:26:00</td>\n",
       "      <td>3.39</td>\n",
       "      <td>17850</td>\n",
       "      <td>United Kingdom</td>\n",
       "      <td>No</td>\n",
       "    </tr>\n",
       "    <tr>\n",
       "      <th>4</th>\n",
       "      <td>536365</td>\n",
       "      <td>84029E</td>\n",
       "      <td>RED WOOLLY HOTTIE WHITE HEART.</td>\n",
       "      <td>6.0</td>\n",
       "      <td>2010-12-01 08:26:00</td>\n",
       "      <td>3.39</td>\n",
       "      <td>17850</td>\n",
       "      <td>United Kingdom</td>\n",
       "      <td>No</td>\n",
       "    </tr>\n",
       "  </tbody>\n",
       "</table>\n",
       "</div>"
      ],
      "text/plain": [
       "  invoice_num stock_code                          description  quantity  \\\n",
       "0      536365     85123A   WHITE HANGING HEART T-LIGHT HOLDER       6.0   \n",
       "1      536365      71053                  WHITE METAL LANTERN       6.0   \n",
       "2      536365     84406B       CREAM CUPID HEARTS COAT HANGER       8.0   \n",
       "3      536365     84029G  KNITTED UNION FLAG HOT WATER BOTTLE       6.0   \n",
       "4      536365     84029E       RED WOOLLY HOTTIE WHITE HEART.       6.0   \n",
       "\n",
       "         invoice_date  unit_price customer_id         country canceled  \n",
       "0 2010-12-01 08:26:00        2.55       17850  United Kingdom       No  \n",
       "1 2010-12-01 08:26:00        3.39       17850  United Kingdom       No  \n",
       "2 2010-12-01 08:26:00        2.75       17850  United Kingdom       No  \n",
       "3 2010-12-01 08:26:00        3.39       17850  United Kingdom       No  \n",
       "4 2010-12-01 08:26:00        3.39       17850  United Kingdom       No  "
      ]
     },
     "execution_count": 44,
     "metadata": {},
     "output_type": "execute_result"
    }
   ],
   "source": [
    "# I just drop the rows with the negative quantity \n",
    "# To use and statements inside a data-frame you just have to use a single & character \n",
    "# and separate each condition with parenthesis. (Link above in Stackoverflow)\n",
    "\n",
    "df = df[df['quantity'] > 0]\n",
    "df.head()"
   ]
  },
  {
   "cell_type": "code",
   "execution_count": 45,
   "metadata": {},
   "outputs": [
    {
     "data": {
      "text/plain": [
       "(389196, 9)"
      ]
     },
     "execution_count": 45,
     "metadata": {},
     "output_type": "execute_result"
    }
   ],
   "source": [
    "# The shape of our dataset just got even smaller after the drop \n",
    "\n",
    "df.shape"
   ]
  },
  {
   "cell_type": "markdown",
   "metadata": {},
   "source": [
    "# Calculation of RFM metrics\n",
    "\n",
    "* Recency : the number of days between today_date and the last purchase date of this customer\n",
    "\n",
    "* Frequency : the number of purchase of this customer\n",
    "\n",
    "* Monetary : sum of TotalPrice of this customer"
   ]
  },
  {
   "cell_type": "code",
   "execution_count": 46,
   "metadata": {},
   "outputs": [],
   "source": [
    "# I create a new column here \n",
    "\n",
    "df[\"total_price\"] = df[\"quantity\"] * df[\"unit_price\"]"
   ]
  },
  {
   "cell_type": "code",
   "execution_count": 47,
   "metadata": {},
   "outputs": [
    {
     "data": {
      "text/html": [
       "<div>\n",
       "<style scoped>\n",
       "    .dataframe tbody tr th:only-of-type {\n",
       "        vertical-align: middle;\n",
       "    }\n",
       "\n",
       "    .dataframe tbody tr th {\n",
       "        vertical-align: top;\n",
       "    }\n",
       "\n",
       "    .dataframe thead th {\n",
       "        text-align: right;\n",
       "    }\n",
       "</style>\n",
       "<table border=\"1\" class=\"dataframe\">\n",
       "  <thead>\n",
       "    <tr style=\"text-align: right;\">\n",
       "      <th></th>\n",
       "      <th>index</th>\n",
       "      <th>invoice_num</th>\n",
       "      <th>stock_code</th>\n",
       "      <th>description</th>\n",
       "      <th>quantity</th>\n",
       "      <th>invoice_date</th>\n",
       "      <th>unit_price</th>\n",
       "      <th>customer_id</th>\n",
       "      <th>country</th>\n",
       "      <th>canceled</th>\n",
       "      <th>total_price</th>\n",
       "    </tr>\n",
       "  </thead>\n",
       "  <tbody>\n",
       "    <tr>\n",
       "      <th>0</th>\n",
       "      <td>61619</td>\n",
       "      <td>541431</td>\n",
       "      <td>23166</td>\n",
       "      <td>MEDIUM CERAMIC TOP STORAGE JAR</td>\n",
       "      <td>74215.0</td>\n",
       "      <td>2011-01-18 10:01:00</td>\n",
       "      <td>1.04</td>\n",
       "      <td>12346</td>\n",
       "      <td>United Kingdom</td>\n",
       "      <td>No</td>\n",
       "      <td>77183.60</td>\n",
       "    </tr>\n",
       "    <tr>\n",
       "      <th>1</th>\n",
       "      <td>222680</td>\n",
       "      <td>556444</td>\n",
       "      <td>22502</td>\n",
       "      <td>PICNIC BASKET WICKER 60 PIECES</td>\n",
       "      <td>60.0</td>\n",
       "      <td>2011-06-10 15:28:00</td>\n",
       "      <td>649.50</td>\n",
       "      <td>15098</td>\n",
       "      <td>United Kingdom</td>\n",
       "      <td>No</td>\n",
       "      <td>38970.00</td>\n",
       "    </tr>\n",
       "    <tr>\n",
       "      <th>2</th>\n",
       "      <td>173382</td>\n",
       "      <td>551697</td>\n",
       "      <td>POST</td>\n",
       "      <td>POSTAGE</td>\n",
       "      <td>1.0</td>\n",
       "      <td>2011-05-03 13:46:00</td>\n",
       "      <td>8142.75</td>\n",
       "      <td>16029</td>\n",
       "      <td>United Kingdom</td>\n",
       "      <td>No</td>\n",
       "      <td>8142.75</td>\n",
       "    </tr>\n",
       "    <tr>\n",
       "      <th>3</th>\n",
       "      <td>348325</td>\n",
       "      <td>567423</td>\n",
       "      <td>23243</td>\n",
       "      <td>SET OF TEA COFFEE SUGAR TINS PANTRY</td>\n",
       "      <td>1412.0</td>\n",
       "      <td>2011-09-20 11:05:00</td>\n",
       "      <td>5.06</td>\n",
       "      <td>17450</td>\n",
       "      <td>United Kingdom</td>\n",
       "      <td>No</td>\n",
       "      <td>7144.72</td>\n",
       "    </tr>\n",
       "    <tr>\n",
       "      <th>4</th>\n",
       "      <td>52711</td>\n",
       "      <td>540815</td>\n",
       "      <td>21108</td>\n",
       "      <td>FAIRY CAKE FLANNEL ASSORTED COLOUR</td>\n",
       "      <td>3114.0</td>\n",
       "      <td>2011-01-11 12:55:00</td>\n",
       "      <td>2.10</td>\n",
       "      <td>15749</td>\n",
       "      <td>United Kingdom</td>\n",
       "      <td>No</td>\n",
       "      <td>6539.40</td>\n",
       "    </tr>\n",
       "  </tbody>\n",
       "</table>\n",
       "</div>"
      ],
      "text/plain": [
       "    index invoice_num stock_code                          description  \\\n",
       "0   61619      541431      23166       MEDIUM CERAMIC TOP STORAGE JAR   \n",
       "1  222680      556444      22502       PICNIC BASKET WICKER 60 PIECES   \n",
       "2  173382      551697       POST                              POSTAGE   \n",
       "3  348325      567423      23243  SET OF TEA COFFEE SUGAR TINS PANTRY   \n",
       "4   52711      540815      21108   FAIRY CAKE FLANNEL ASSORTED COLOUR   \n",
       "\n",
       "   quantity        invoice_date  unit_price customer_id         country  \\\n",
       "0   74215.0 2011-01-18 10:01:00        1.04       12346  United Kingdom   \n",
       "1      60.0 2011-06-10 15:28:00      649.50       15098  United Kingdom   \n",
       "2       1.0 2011-05-03 13:46:00     8142.75       16029  United Kingdom   \n",
       "3    1412.0 2011-09-20 11:05:00        5.06       17450  United Kingdom   \n",
       "4    3114.0 2011-01-11 12:55:00        2.10       15749  United Kingdom   \n",
       "\n",
       "  canceled  total_price  \n",
       "0       No     77183.60  \n",
       "1       No     38970.00  \n",
       "2       No      8142.75  \n",
       "3       No      7144.72  \n",
       "4       No      6539.40  "
      ]
     },
     "execution_count": 47,
     "metadata": {},
     "output_type": "execute_result"
    }
   ],
   "source": [
    "df.sort_values('total_price', ascending=False).head().reset_index()"
   ]
  },
  {
   "cell_type": "code",
   "execution_count": 48,
   "metadata": {},
   "outputs": [
    {
     "data": {
      "text/plain": [
       "country\n",
       "United Kingdom    345957\n",
       "Germany             8983\n",
       "France              8295\n",
       "EIRE                7173\n",
       "Spain               2460\n",
       "Netherlands         2347\n",
       "Belgium             2022\n",
       "Switzerland         1831\n",
       "Portugal            1448\n",
       "Australia           1176\n",
       "Name: total_price, dtype: int64"
      ]
     },
     "execution_count": 48,
     "metadata": {},
     "output_type": "execute_result"
    }
   ],
   "source": [
    "#No. of products sold by Country\n",
    "\n",
    "products_country = df.groupby('country').count()['total_price'].sort_values(ascending=False).head(10)\n",
    "products_country"
   ]
  },
  {
   "cell_type": "code",
   "execution_count": 49,
   "metadata": {},
   "outputs": [
    {
     "data": {
      "text/plain": [
       "country\n",
       "Malta                   111\n",
       "United Arab Emirates     67\n",
       "European Community       60\n",
       "RSA                      58\n",
       "Lebanon                  45\n",
       "Lithuania                35\n",
       "Brazil                   32\n",
       "Czech Republic           25\n",
       "Bahrain                  17\n",
       "Saudi Arabia              9\n",
       "Name: total_price, dtype: int64"
      ]
     },
     "execution_count": 49,
     "metadata": {},
     "output_type": "execute_result"
    }
   ],
   "source": [
    "#No. of products sold by Country\n",
    "\n",
    "products_country = df.groupby('country').count()['total_price'].sort_values(ascending=False).tail(10)\n",
    "products_country"
   ]
  },
  {
   "cell_type": "code",
   "execution_count": 50,
   "metadata": {},
   "outputs": [],
   "source": [
    "present = dt.date(2011,12,9)"
   ]
  },
  {
   "cell_type": "markdown",
   "metadata": {},
   "source": [
    "#### Create the RFM Table"
   ]
  },
  {
   "cell_type": "code",
   "execution_count": 51,
   "metadata": {},
   "outputs": [],
   "source": [
    "#new_df = df[['quantity' , 'unit_price', 'total_price']]\n",
    "#new_df.head()"
   ]
  },
  {
   "cell_type": "code",
   "execution_count": 52,
   "metadata": {},
   "outputs": [],
   "source": [
    "# Aggregate at customer level\n",
    "#customer_df = pd.DataFrame(df.pivot_table(index=\"customer_id\", \n",
    "                                            \n",
    "                                              #values=[\"invoice_date\", \"total_price\"], \n",
    "                                            \n",
    "                                              #aggfunc={\"invoice_date\": [min, max, pd.Series.nunique], \"total_price\": sum}))\n",
    "#customer_df.head()"
   ]
  },
  {
   "cell_type": "code",
   "execution_count": 53,
   "metadata": {},
   "outputs": [],
   "source": [
    "#customer_df.columns = [\"LastInvoiceDate\", \"FirstInvoiceDate\", \"Frequency\", \"MonetaryValue\"]\n",
    "#customer_df.head().reset_index()"
   ]
  },
  {
   "cell_type": "code",
   "execution_count": 54,
   "metadata": {},
   "outputs": [],
   "source": [
    "today_date = dt.datetime(2011,12,11)"
   ]
  },
  {
   "cell_type": "code",
   "execution_count": 55,
   "metadata": {},
   "outputs": [],
   "source": [
    "rfm = df.groupby('customer_id').agg({'invoice_date' : lambda invoice_date:  (today_date - invoice_date.max()).days,\n",
    "                                    'invoice_num'   : lambda invoice_num:   invoice_num.nunique(),\n",
    "                                    'total_price'   : lambda total_price:   total_price.sum()})"
   ]
  },
  {
   "cell_type": "code",
   "execution_count": 56,
   "metadata": {},
   "outputs": [
    {
     "data": {
      "text/html": [
       "<div>\n",
       "<style scoped>\n",
       "    .dataframe tbody tr th:only-of-type {\n",
       "        vertical-align: middle;\n",
       "    }\n",
       "\n",
       "    .dataframe tbody tr th {\n",
       "        vertical-align: top;\n",
       "    }\n",
       "\n",
       "    .dataframe thead th {\n",
       "        text-align: right;\n",
       "    }\n",
       "</style>\n",
       "<table border=\"1\" class=\"dataframe\">\n",
       "  <thead>\n",
       "    <tr style=\"text-align: right;\">\n",
       "      <th></th>\n",
       "      <th>customer_id</th>\n",
       "      <th>recency</th>\n",
       "      <th>frequency</th>\n",
       "      <th>monetary</th>\n",
       "    </tr>\n",
       "  </thead>\n",
       "  <tbody>\n",
       "    <tr>\n",
       "      <th>0</th>\n",
       "      <td>12346</td>\n",
       "      <td>326</td>\n",
       "      <td>1</td>\n",
       "      <td>326.0</td>\n",
       "    </tr>\n",
       "    <tr>\n",
       "      <th>1</th>\n",
       "      <td>12347</td>\n",
       "      <td>3</td>\n",
       "      <td>7</td>\n",
       "      <td>3.0</td>\n",
       "    </tr>\n",
       "    <tr>\n",
       "      <th>2</th>\n",
       "      <td>12348</td>\n",
       "      <td>76</td>\n",
       "      <td>4</td>\n",
       "      <td>76.0</td>\n",
       "    </tr>\n",
       "    <tr>\n",
       "      <th>3</th>\n",
       "      <td>12349</td>\n",
       "      <td>19</td>\n",
       "      <td>1</td>\n",
       "      <td>19.0</td>\n",
       "    </tr>\n",
       "    <tr>\n",
       "      <th>4</th>\n",
       "      <td>12350</td>\n",
       "      <td>311</td>\n",
       "      <td>1</td>\n",
       "      <td>311.0</td>\n",
       "    </tr>\n",
       "  </tbody>\n",
       "</table>\n",
       "</div>"
      ],
      "text/plain": [
       "  customer_id  recency  frequency  monetary\n",
       "0       12346      326          1     326.0\n",
       "1       12347        3          7       3.0\n",
       "2       12348       76          4      76.0\n",
       "3       12349       19          1      19.0\n",
       "4       12350      311          1     311.0"
      ]
     },
     "execution_count": 56,
     "metadata": {},
     "output_type": "execute_result"
    }
   ],
   "source": [
    "rfm.columns = ['recency','frequency','monetary']\n",
    "rfm['monetary'] = rfm[rfm['monetary'] > 0]\n",
    "rfm = rfm.reset_index()\n",
    "rfm.head()"
   ]
  },
  {
   "cell_type": "code",
   "execution_count": 57,
   "metadata": {},
   "outputs": [
    {
     "data": {
      "text/plain": [
       "<AxesSubplot:>"
      ]
     },
     "execution_count": 57,
     "metadata": {},
     "output_type": "execute_result"
    },
    {
     "data": {
      "image/png": "[encoded data removed]",
      "text/plain": [
       "<Figure size 936x504 with 1 Axes>"
      ]
     },
     "metadata": {},
     "output_type": "display_data"
    }
   ],
   "source": [
    "#set sns theme\n",
    "sns.set_theme(style=\"whitegrid\")\n",
    "\n",
    "#set plot size\n",
    "fig, ax = plt.subplots(figsize=(13, 7))\n",
    "\n",
    "rfm.boxplot(grid=False, rot=45, fontsize=15)"
   ]
  },
  {
   "cell_type": "code",
   "execution_count": 58,
   "metadata": {},
   "outputs": [
    {
     "data": {
      "text/html": [
       "<div>\n",
       "<style scoped>\n",
       "    .dataframe tbody tr th:only-of-type {\n",
       "        vertical-align: middle;\n",
       "    }\n",
       "\n",
       "    .dataframe tbody tr th {\n",
       "        vertical-align: top;\n",
       "    }\n",
       "\n",
       "    .dataframe thead th {\n",
       "        text-align: right;\n",
       "    }\n",
       "</style>\n",
       "<table border=\"1\" class=\"dataframe\">\n",
       "  <thead>\n",
       "    <tr style=\"text-align: right;\">\n",
       "      <th></th>\n",
       "      <th>customer_id</th>\n",
       "      <th>recency</th>\n",
       "      <th>frequency</th>\n",
       "      <th>monetary</th>\n",
       "    </tr>\n",
       "  </thead>\n",
       "  <tbody>\n",
       "    <tr>\n",
       "      <th>326</th>\n",
       "      <td>12748</td>\n",
       "      <td>1</td>\n",
       "      <td>210</td>\n",
       "      <td>1.0</td>\n",
       "    </tr>\n",
       "    <tr>\n",
       "      <th>1879</th>\n",
       "      <td>14911</td>\n",
       "      <td>2</td>\n",
       "      <td>201</td>\n",
       "      <td>2.0</td>\n",
       "    </tr>\n",
       "    <tr>\n",
       "      <th>4010</th>\n",
       "      <td>17841</td>\n",
       "      <td>2</td>\n",
       "      <td>123</td>\n",
       "      <td>2.0</td>\n",
       "    </tr>\n",
       "    <tr>\n",
       "      <th>562</th>\n",
       "      <td>13089</td>\n",
       "      <td>3</td>\n",
       "      <td>97</td>\n",
       "      <td>3.0</td>\n",
       "    </tr>\n",
       "    <tr>\n",
       "      <th>1661</th>\n",
       "      <td>14606</td>\n",
       "      <td>2</td>\n",
       "      <td>93</td>\n",
       "      <td>2.0</td>\n",
       "    </tr>\n",
       "  </tbody>\n",
       "</table>\n",
       "</div>"
      ],
      "text/plain": [
       "     customer_id  recency  frequency  monetary\n",
       "326        12748        1        210       1.0\n",
       "1879       14911        2        201       2.0\n",
       "4010       17841        2        123       2.0\n",
       "562        13089        3         97       3.0\n",
       "1661       14606        2         93       2.0"
      ]
     },
     "execution_count": 58,
     "metadata": {},
     "output_type": "execute_result"
    }
   ],
   "source": [
    "# Fing top 10 customers based on frequency and monetary values\n",
    "# Sorting first on frequency and then on Monetary value¶\n",
    "# Below are top ten customers after sorting¶\n",
    "\n",
    "rfm.sort_values(['frequency', 'monetary'], ascending=[False, False], inplace=True)\n",
    "rfm.head()"
   ]
  },
  {
   "cell_type": "code",
   "execution_count": 59,
   "metadata": {},
   "outputs": [],
   "source": [
    "rfm_new = rfm.copy()"
   ]
  },
  {
   "cell_type": "markdown",
   "metadata": {},
   "source": [
    "### RFM Scores"
   ]
  },
  {
   "cell_type": "code",
   "execution_count": 60,
   "metadata": {},
   "outputs": [],
   "source": [
    "# i use the method qcut, in order to cut the three columns in five quartiles. \n",
    "# I could do it by hand by i didn't really like especially pandas has it arleady \n",
    "\n",
    "rfm['recency_score'] = pd.qcut(rfm['recency'] , 5 , labels = range(1,6,1))\n",
    "\n",
    "rfm['frequency_score'] = pd.qcut(rfm['frequency'].rank(method=\"first\"), 5, labels =range(1, 6, 1) )\n",
    "\n",
    "rfm['monetary_score'] = pd.qcut(rfm['monetary'], 5, labels= range(1, 6, 1))\n",
    "\n",
    "rfm['RFM_Score'] = rfm[['recency_score', 'frequency_score', 'monetary_score']].sum(axis=1).astype(int)\n",
    "\n",
    "rfm['RFM_Segmentantion'] = (rfm['recency_score'].astype(str) \n",
    "                            + rfm['frequency_score'].astype(str) \n",
    "                            + rfm['monetary_score'].astype(str))"
   ]
  },
  {
   "cell_type": "code",
   "execution_count": 61,
   "metadata": {},
   "outputs": [
    {
     "data": {
      "text/html": [
       "<div>\n",
       "<style scoped>\n",
       "    .dataframe tbody tr th:only-of-type {\n",
       "        vertical-align: middle;\n",
       "    }\n",
       "\n",
       "    .dataframe tbody tr th {\n",
       "        vertical-align: top;\n",
       "    }\n",
       "\n",
       "    .dataframe thead th {\n",
       "        text-align: right;\n",
       "    }\n",
       "</style>\n",
       "<table border=\"1\" class=\"dataframe\">\n",
       "  <thead>\n",
       "    <tr style=\"text-align: right;\">\n",
       "      <th></th>\n",
       "      <th>customer_id</th>\n",
       "      <th>recency</th>\n",
       "      <th>frequency</th>\n",
       "      <th>monetary</th>\n",
       "      <th>recency_score</th>\n",
       "      <th>frequency_score</th>\n",
       "      <th>monetary_score</th>\n",
       "      <th>RFM_Score</th>\n",
       "      <th>RFM_Segmentantion</th>\n",
       "    </tr>\n",
       "  </thead>\n",
       "  <tbody>\n",
       "    <tr>\n",
       "      <th>326</th>\n",
       "      <td>12748</td>\n",
       "      <td>1</td>\n",
       "      <td>210</td>\n",
       "      <td>1.0</td>\n",
       "      <td>1</td>\n",
       "      <td>5</td>\n",
       "      <td>1</td>\n",
       "      <td>7</td>\n",
       "      <td>151.0</td>\n",
       "    </tr>\n",
       "    <tr>\n",
       "      <th>1879</th>\n",
       "      <td>14911</td>\n",
       "      <td>2</td>\n",
       "      <td>201</td>\n",
       "      <td>2.0</td>\n",
       "      <td>1</td>\n",
       "      <td>5</td>\n",
       "      <td>1</td>\n",
       "      <td>7</td>\n",
       "      <td>151.0</td>\n",
       "    </tr>\n",
       "    <tr>\n",
       "      <th>4010</th>\n",
       "      <td>17841</td>\n",
       "      <td>2</td>\n",
       "      <td>123</td>\n",
       "      <td>2.0</td>\n",
       "      <td>1</td>\n",
       "      <td>5</td>\n",
       "      <td>1</td>\n",
       "      <td>7</td>\n",
       "      <td>151.0</td>\n",
       "    </tr>\n",
       "    <tr>\n",
       "      <th>562</th>\n",
       "      <td>13089</td>\n",
       "      <td>3</td>\n",
       "      <td>97</td>\n",
       "      <td>3.0</td>\n",
       "      <td>1</td>\n",
       "      <td>5</td>\n",
       "      <td>1</td>\n",
       "      <td>7</td>\n",
       "      <td>151.0</td>\n",
       "    </tr>\n",
       "    <tr>\n",
       "      <th>1661</th>\n",
       "      <td>14606</td>\n",
       "      <td>2</td>\n",
       "      <td>93</td>\n",
       "      <td>2.0</td>\n",
       "      <td>1</td>\n",
       "      <td>5</td>\n",
       "      <td>1</td>\n",
       "      <td>7</td>\n",
       "      <td>151.0</td>\n",
       "    </tr>\n",
       "  </tbody>\n",
       "</table>\n",
       "</div>"
      ],
      "text/plain": [
       "     customer_id  recency  frequency  monetary recency_score frequency_score  \\\n",
       "326        12748        1        210       1.0             1               5   \n",
       "1879       14911        2        201       2.0             1               5   \n",
       "4010       17841        2        123       2.0             1               5   \n",
       "562        13089        3         97       3.0             1               5   \n",
       "1661       14606        2         93       2.0             1               5   \n",
       "\n",
       "     monetary_score  RFM_Score RFM_Segmentantion  \n",
       "326               1          7             151.0  \n",
       "1879              1          7             151.0  \n",
       "4010              1          7             151.0  \n",
       "562               1          7             151.0  \n",
       "1661              1          7             151.0  "
      ]
     },
     "execution_count": 61,
     "metadata": {},
     "output_type": "execute_result"
    }
   ],
   "source": [
    "rfm.head()"
   ]
  },
  {
   "cell_type": "code",
   "execution_count": 62,
   "metadata": {},
   "outputs": [
    {
     "data": {
      "image/png": "[encoded data removed]",
      "text/plain": [
       "<Figure size 1440x360 with 1 Axes>"
      ]
     },
     "metadata": {},
     "output_type": "display_data"
    }
   ],
   "source": [
    "#set sns theme\n",
    "sns.set_theme(style=\"whitegrid\")\n",
    "\n",
    "#set plot size\n",
    "fig, ax = plt.subplots(figsize=(20, 5))\n",
    "\n",
    "#plot count of each RFM segment\n",
    "sns.countplot(x=\"RFM_Segmentantion\", data=rfm)\n",
    "plt.xticks(rotation=45)\n",
    "\n",
    "plt.show()"
   ]
  },
  {
   "cell_type": "code",
   "execution_count": 63,
   "metadata": {},
   "outputs": [],
   "source": [
    "# Create a new column accordingly to the customers score \n",
    "\n",
    "def rank(a):\n",
    "    \n",
    "    if  (a >= 0) & (a <= 3):\n",
    "        return 'Basic'\n",
    "    \n",
    "    elif (a <=7):\n",
    "        return 'Advanced'\n",
    "    \n",
    "    elif (a <= 13):\n",
    "        return 'Gold'\n",
    "    else:\n",
    "        return 'Platinum'"
   ]
  },
  {
   "cell_type": "code",
   "execution_count": 64,
   "metadata": {},
   "outputs": [
    {
     "data": {
      "text/html": [
       "<div>\n",
       "<style scoped>\n",
       "    .dataframe tbody tr th:only-of-type {\n",
       "        vertical-align: middle;\n",
       "    }\n",
       "\n",
       "    .dataframe tbody tr th {\n",
       "        vertical-align: top;\n",
       "    }\n",
       "\n",
       "    .dataframe thead th {\n",
       "        text-align: right;\n",
       "    }\n",
       "</style>\n",
       "<table border=\"1\" class=\"dataframe\">\n",
       "  <thead>\n",
       "    <tr style=\"text-align: right;\">\n",
       "      <th></th>\n",
       "      <th>index</th>\n",
       "      <th>customer_id</th>\n",
       "      <th>recency</th>\n",
       "      <th>frequency</th>\n",
       "      <th>monetary</th>\n",
       "      <th>recency_score</th>\n",
       "      <th>frequency_score</th>\n",
       "      <th>monetary_score</th>\n",
       "      <th>RFM_Score</th>\n",
       "      <th>RFM_Segmentantion</th>\n",
       "      <th>Rank_id</th>\n",
       "    </tr>\n",
       "  </thead>\n",
       "  <tbody>\n",
       "    <tr>\n",
       "      <th>0</th>\n",
       "      <td>326</td>\n",
       "      <td>12748</td>\n",
       "      <td>1</td>\n",
       "      <td>210</td>\n",
       "      <td>1.0</td>\n",
       "      <td>1</td>\n",
       "      <td>5</td>\n",
       "      <td>1</td>\n",
       "      <td>7</td>\n",
       "      <td>151.0</td>\n",
       "      <td>Advanced</td>\n",
       "    </tr>\n",
       "    <tr>\n",
       "      <th>1</th>\n",
       "      <td>1879</td>\n",
       "      <td>14911</td>\n",
       "      <td>2</td>\n",
       "      <td>201</td>\n",
       "      <td>2.0</td>\n",
       "      <td>1</td>\n",
       "      <td>5</td>\n",
       "      <td>1</td>\n",
       "      <td>7</td>\n",
       "      <td>151.0</td>\n",
       "      <td>Advanced</td>\n",
       "    </tr>\n",
       "    <tr>\n",
       "      <th>2</th>\n",
       "      <td>4010</td>\n",
       "      <td>17841</td>\n",
       "      <td>2</td>\n",
       "      <td>123</td>\n",
       "      <td>2.0</td>\n",
       "      <td>1</td>\n",
       "      <td>5</td>\n",
       "      <td>1</td>\n",
       "      <td>7</td>\n",
       "      <td>151.0</td>\n",
       "      <td>Advanced</td>\n",
       "    </tr>\n",
       "    <tr>\n",
       "      <th>3</th>\n",
       "      <td>562</td>\n",
       "      <td>13089</td>\n",
       "      <td>3</td>\n",
       "      <td>97</td>\n",
       "      <td>3.0</td>\n",
       "      <td>1</td>\n",
       "      <td>5</td>\n",
       "      <td>1</td>\n",
       "      <td>7</td>\n",
       "      <td>151.0</td>\n",
       "      <td>Advanced</td>\n",
       "    </tr>\n",
       "    <tr>\n",
       "      <th>4</th>\n",
       "      <td>1661</td>\n",
       "      <td>14606</td>\n",
       "      <td>2</td>\n",
       "      <td>93</td>\n",
       "      <td>2.0</td>\n",
       "      <td>1</td>\n",
       "      <td>5</td>\n",
       "      <td>1</td>\n",
       "      <td>7</td>\n",
       "      <td>151.0</td>\n",
       "      <td>Advanced</td>\n",
       "    </tr>\n",
       "    <tr>\n",
       "      <th>5</th>\n",
       "      <td>2176</td>\n",
       "      <td>15311</td>\n",
       "      <td>1</td>\n",
       "      <td>91</td>\n",
       "      <td>1.0</td>\n",
       "      <td>1</td>\n",
       "      <td>5</td>\n",
       "      <td>1</td>\n",
       "      <td>7</td>\n",
       "      <td>151.0</td>\n",
       "      <td>Advanced</td>\n",
       "    </tr>\n",
       "    <tr>\n",
       "      <th>6</th>\n",
       "      <td>481</td>\n",
       "      <td>12971</td>\n",
       "      <td>4</td>\n",
       "      <td>86</td>\n",
       "      <td>4.0</td>\n",
       "      <td>1</td>\n",
       "      <td>5</td>\n",
       "      <td>1</td>\n",
       "      <td>7</td>\n",
       "      <td>151.0</td>\n",
       "      <td>Advanced</td>\n",
       "    </tr>\n",
       "    <tr>\n",
       "      <th>7</th>\n",
       "      <td>1689</td>\n",
       "      <td>14646</td>\n",
       "      <td>2</td>\n",
       "      <td>74</td>\n",
       "      <td>2.0</td>\n",
       "      <td>1</td>\n",
       "      <td>5</td>\n",
       "      <td>1</td>\n",
       "      <td>7</td>\n",
       "      <td>151.0</td>\n",
       "      <td>Advanced</td>\n",
       "    </tr>\n",
       "    <tr>\n",
       "      <th>8</th>\n",
       "      <td>2702</td>\n",
       "      <td>16029</td>\n",
       "      <td>39</td>\n",
       "      <td>63</td>\n",
       "      <td>39.0</td>\n",
       "      <td>3</td>\n",
       "      <td>5</td>\n",
       "      <td>3</td>\n",
       "      <td>11</td>\n",
       "      <td>353.0</td>\n",
       "      <td>Gold</td>\n",
       "    </tr>\n",
       "    <tr>\n",
       "      <th>9</th>\n",
       "      <td>796</td>\n",
       "      <td>13408</td>\n",
       "      <td>2</td>\n",
       "      <td>62</td>\n",
       "      <td>2.0</td>\n",
       "      <td>1</td>\n",
       "      <td>5</td>\n",
       "      <td>1</td>\n",
       "      <td>7</td>\n",
       "      <td>151.0</td>\n",
       "      <td>Advanced</td>\n",
       "    </tr>\n",
       "  </tbody>\n",
       "</table>\n",
       "</div>"
      ],
      "text/plain": [
       "   index customer_id  recency  frequency  monetary recency_score  \\\n",
       "0    326       12748        1        210       1.0             1   \n",
       "1   1879       14911        2        201       2.0             1   \n",
       "2   4010       17841        2        123       2.0             1   \n",
       "3    562       13089        3         97       3.0             1   \n",
       "4   1661       14606        2         93       2.0             1   \n",
       "5   2176       15311        1         91       1.0             1   \n",
       "6    481       12971        4         86       4.0             1   \n",
       "7   1689       14646        2         74       2.0             1   \n",
       "8   2702       16029       39         63      39.0             3   \n",
       "9    796       13408        2         62       2.0             1   \n",
       "\n",
       "  frequency_score monetary_score  RFM_Score RFM_Segmentantion   Rank_id  \n",
       "0               5              1          7             151.0  Advanced  \n",
       "1               5              1          7             151.0  Advanced  \n",
       "2               5              1          7             151.0  Advanced  \n",
       "3               5              1          7             151.0  Advanced  \n",
       "4               5              1          7             151.0  Advanced  \n",
       "5               5              1          7             151.0  Advanced  \n",
       "6               5              1          7             151.0  Advanced  \n",
       "7               5              1          7             151.0  Advanced  \n",
       "8               5              3         11             353.0      Gold  \n",
       "9               5              1          7             151.0  Advanced  "
      ]
     },
     "execution_count": 64,
     "metadata": {},
     "output_type": "execute_result"
    }
   ],
   "source": [
    "rfm['Rank_id'] = rfm['RFM_Score'].apply(rank)\n",
    "rfm.head(10).reset_index()"
   ]
  },
  {
   "cell_type": "code",
   "execution_count": 65,
   "metadata": {},
   "outputs": [],
   "source": [
    "# VIZOUALAZATION ANALOGA TON RANK TOUS EDW "
   ]
  },
  {
   "cell_type": "code",
   "execution_count": 66,
   "metadata": {},
   "outputs": [
    {
     "data": {
      "text/plain": [
       "Gold        3083\n",
       "Advanced    1218\n",
       "Platinum      35\n",
       "Basic          1\n",
       "Name: Rank_id, dtype: int64"
      ]
     },
     "execution_count": 66,
     "metadata": {},
     "output_type": "execute_result"
    }
   ],
   "source": [
    "# We can underastand better the clients by the rank \n",
    "\n",
    "ranks = rfm['Rank_id'].value_counts()\n",
    "ranks"
   ]
  },
  {
   "cell_type": "code",
   "execution_count": 67,
   "metadata": {},
   "outputs": [
    {
     "data": {
      "text/html": [
       "<div>\n",
       "<style scoped>\n",
       "    .dataframe tbody tr th:only-of-type {\n",
       "        vertical-align: middle;\n",
       "    }\n",
       "\n",
       "    .dataframe tbody tr th {\n",
       "        vertical-align: top;\n",
       "    }\n",
       "\n",
       "    .dataframe thead th {\n",
       "        text-align: right;\n",
       "    }\n",
       "</style>\n",
       "<table border=\"1\" class=\"dataframe\">\n",
       "  <thead>\n",
       "    <tr style=\"text-align: right;\">\n",
       "      <th></th>\n",
       "      <th>recency</th>\n",
       "      <th>frequency</th>\n",
       "      <th>monetary</th>\n",
       "    </tr>\n",
       "  </thead>\n",
       "  <tbody>\n",
       "    <tr>\n",
       "      <th>326</th>\n",
       "      <td>1</td>\n",
       "      <td>210</td>\n",
       "      <td>1.0</td>\n",
       "    </tr>\n",
       "    <tr>\n",
       "      <th>1879</th>\n",
       "      <td>2</td>\n",
       "      <td>201</td>\n",
       "      <td>2.0</td>\n",
       "    </tr>\n",
       "    <tr>\n",
       "      <th>4010</th>\n",
       "      <td>2</td>\n",
       "      <td>123</td>\n",
       "      <td>2.0</td>\n",
       "    </tr>\n",
       "    <tr>\n",
       "      <th>562</th>\n",
       "      <td>3</td>\n",
       "      <td>97</td>\n",
       "      <td>3.0</td>\n",
       "    </tr>\n",
       "    <tr>\n",
       "      <th>1661</th>\n",
       "      <td>2</td>\n",
       "      <td>93</td>\n",
       "      <td>2.0</td>\n",
       "    </tr>\n",
       "  </tbody>\n",
       "</table>\n",
       "</div>"
      ],
      "text/plain": [
       "      recency  frequency  monetary\n",
       "326         1        210       1.0\n",
       "1879        2        201       2.0\n",
       "4010        2        123       2.0\n",
       "562         3         97       3.0\n",
       "1661        2         93       2.0"
      ]
     },
     "execution_count": 67,
     "metadata": {},
     "output_type": "execute_result"
    }
   ],
   "source": [
    "rfm_new = rfm_new.drop(['customer_id'], axis = 1)\n",
    "rfm_new.head()"
   ]
  },
  {
   "cell_type": "code",
   "execution_count": 68,
   "metadata": {},
   "outputs": [
    {
     "data": {
      "text/plain": [
       "recency      0\n",
       "frequency    0\n",
       "monetary     0\n",
       "dtype: int64"
      ]
     },
     "execution_count": 68,
     "metadata": {},
     "output_type": "execute_result"
    }
   ],
   "source": [
    "rfm_new.dropna(inplace = True)\n",
    "rfm_new.isnull().sum()"
   ]
  },
  {
   "cell_type": "code",
   "execution_count": 69,
   "metadata": {},
   "outputs": [
    {
     "data": {
      "text/plain": [
       "KMeans(max_iter=50, n_clusters=4)"
      ]
     },
     "execution_count": 69,
     "metadata": {},
     "output_type": "execute_result"
    }
   ],
   "source": [
    "# k-means with some arbitrary k\n",
    "\n",
    "kmeans = KMeans(n_clusters=4, max_iter=50)\n",
    "kmeans.fit(rfm_new)"
   ]
  },
  {
   "cell_type": "code",
   "execution_count": 70,
   "metadata": {},
   "outputs": [
    {
     "data": {
      "text/plain": [
       "array([3, 3, 3, ..., 3, 3, 3])"
      ]
     },
     "execution_count": 70,
     "metadata": {},
     "output_type": "execute_result"
    }
   ],
   "source": [
    "kmeans.labels_"
   ]
  },
  {
   "cell_type": "code",
   "execution_count": 71,
   "metadata": {},
   "outputs": [
    {
     "data": {
      "text/plain": [
       "[<matplotlib.lines.Line2D at 0x1cdfd0c12e0>]"
      ]
     },
     "execution_count": 71,
     "metadata": {},
     "output_type": "execute_result"
    },
    {
     "data": {
      "image/png": "[encoded data removed]",
      "text/plain": [
       "<Figure size 432x288 with 1 Axes>"
      ]
     },
     "metadata": {},
     "output_type": "display_data"
    }
   ],
   "source": [
    "ssd = []\n",
    "range_n_clusters = [2, 3, 4, 5, 6, 7, 8]\n",
    "for num_clusters in range_n_clusters:\n",
    "    kmeans = KMeans(n_clusters=num_clusters, max_iter=50)\n",
    "    kmeans.fit(rfm_new)\n",
    "    \n",
    "    ssd.append(kmeans.inertia_)\n",
    "    \n",
    "# plot the SSDs for each n_clusters\n",
    "plt.plot(ssd)"
   ]
  },
  {
   "cell_type": "code",
   "execution_count": 72,
   "metadata": {},
   "outputs": [
    {
     "name": "stdout",
     "output_type": "stream",
     "text": [
      "For n_clusters=2, the silhouette score is 0.736119282440422\n",
      "For n_clusters=3, the silhouette score is 0.6689426598282577\n",
      "For n_clusters=4, the silhouette score is 0.6051045321115178\n",
      "For n_clusters=5, the silhouette score is 0.6030287168141112\n",
      "For n_clusters=6, the silhouette score is 0.5840840946961425\n",
      "For n_clusters=7, the silhouette score is 0.5330610679497987\n",
      "For n_clusters=8, the silhouette score is 0.5326551920827253\n"
     ]
    }
   ],
   "source": [
    "# Silhouette analysis\n",
    "range_n_clusters = [2, 3, 4, 5, 6, 7, 8]\n",
    "\n",
    "for num_clusters in range_n_clusters:\n",
    "    \n",
    "    # intialise kmeans\n",
    "    kmeans = KMeans(n_clusters=num_clusters, max_iter=50)\n",
    "    kmeans.fit(rfm_new)\n",
    "    \n",
    "    cluster_labels = kmeans.labels_\n",
    "    \n",
    "    # silhouette score\n",
    "    silhouette_avg = silhouette_score(rfm_new, cluster_labels)\n",
    "    print(\"For n_clusters={0}, the silhouette score is {1}\".format(num_clusters, silhouette_avg))"
   ]
  },
  {
   "cell_type": "code",
   "execution_count": 73,
   "metadata": {},
   "outputs": [
    {
     "data": {
      "text/plain": [
       "KMeans(max_iter=50, n_clusters=3)"
      ]
     },
     "execution_count": 73,
     "metadata": {},
     "output_type": "execute_result"
    }
   ],
   "source": [
    "# Final model with k=3\n",
    "kmeans = KMeans(n_clusters=3, max_iter=50)\n",
    "kmeans.fit(rfm_new)"
   ]
  },
  {
   "cell_type": "code",
   "execution_count": 74,
   "metadata": {},
   "outputs": [
    {
     "data": {
      "text/html": [
       "<div>\n",
       "<style scoped>\n",
       "    .dataframe tbody tr th:only-of-type {\n",
       "        vertical-align: middle;\n",
       "    }\n",
       "\n",
       "    .dataframe tbody tr th {\n",
       "        vertical-align: top;\n",
       "    }\n",
       "\n",
       "    .dataframe thead th {\n",
       "        text-align: right;\n",
       "    }\n",
       "</style>\n",
       "<table border=\"1\" class=\"dataframe\">\n",
       "  <thead>\n",
       "    <tr style=\"text-align: right;\">\n",
       "      <th></th>\n",
       "      <th>recency</th>\n",
       "      <th>frequency</th>\n",
       "      <th>monetary</th>\n",
       "      <th>Cluster_Id</th>\n",
       "    </tr>\n",
       "  </thead>\n",
       "  <tbody>\n",
       "    <tr>\n",
       "      <th>326</th>\n",
       "      <td>1</td>\n",
       "      <td>210</td>\n",
       "      <td>1.0</td>\n",
       "      <td>0</td>\n",
       "    </tr>\n",
       "    <tr>\n",
       "      <th>1879</th>\n",
       "      <td>2</td>\n",
       "      <td>201</td>\n",
       "      <td>2.0</td>\n",
       "      <td>0</td>\n",
       "    </tr>\n",
       "    <tr>\n",
       "      <th>4010</th>\n",
       "      <td>2</td>\n",
       "      <td>123</td>\n",
       "      <td>2.0</td>\n",
       "      <td>0</td>\n",
       "    </tr>\n",
       "    <tr>\n",
       "      <th>562</th>\n",
       "      <td>3</td>\n",
       "      <td>97</td>\n",
       "      <td>3.0</td>\n",
       "      <td>0</td>\n",
       "    </tr>\n",
       "    <tr>\n",
       "      <th>1661</th>\n",
       "      <td>2</td>\n",
       "      <td>93</td>\n",
       "      <td>2.0</td>\n",
       "      <td>0</td>\n",
       "    </tr>\n",
       "  </tbody>\n",
       "</table>\n",
       "</div>"
      ],
      "text/plain": [
       "      recency  frequency  monetary  Cluster_Id\n",
       "326         1        210       1.0           0\n",
       "1879        2        201       2.0           0\n",
       "4010        2        123       2.0           0\n",
       "562         3         97       3.0           0\n",
       "1661        2         93       2.0           0"
      ]
     },
     "execution_count": 74,
     "metadata": {},
     "output_type": "execute_result"
    }
   ],
   "source": [
    "# assign the label\n",
    "rfm_new['Cluster_Id'] = kmeans.labels_\n",
    "rfm_new.head()"
   ]
  },
  {
   "cell_type": "code",
   "execution_count": 75,
   "metadata": {},
   "outputs": [
    {
     "name": "stdout",
     "output_type": "stream",
     "text": [
      "The project executed only in 16.57 seconds\n"
     ]
    }
   ],
   "source": [
    "end = time.time()\n",
    "time = end - start \n",
    "time1 = round(time, 2)\n",
    "print('The project executed only in', time1 , 'seconds')"
   ]
  }
 ],
 "metadata": {
  "kernelspec": {
   "display_name": "Python 3",
   "language": "python",
   "name": "python3"
  },
  "language_info": {
   "codemirror_mode": {
    "name": "ipython",
    "version": 3
   },
   "file_extension": ".py",
   "mimetype": "text/x-python",
   "name": "python",
   "nbconvert_exporter": "python",
   "pygments_lexer": "ipython3",
   "version": "3.8.5"
  }
 },
 "nbformat": 4,
 "nbformat_minor": 4
}
